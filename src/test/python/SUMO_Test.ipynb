{
 "cells": [
  {
   "metadata": {
    "ExecuteTime": {
     "end_time": "2025-03-03T19:26:48.622084Z",
     "start_time": "2025-03-03T19:26:48.606055Z"
    }
   },
   "cell_type": "code",
   "source": [
    "import traci\n",
    "import traci.constants as tc\n",
    "import pandas as pd\n",
    "import numpy as np\n",
    "\n",
    "# What do we have to extract from the simulation?\n",
    "# 1. Vehicle ID\n",
    "# 2. Vehicle type (includes length and width)\n",
    "# 3. Vehicle position\n",
    "# 4. Vehicle speed\n",
    "# 4a. Vehicle lateral speed\n",
    "# 5. Sorrounding vehicles (next 2 vehicles in front and behind and on the other lane)\n",
    "# 6. Vehicle acceleration\n",
    "# 7. Vehicle deceleration\n",
    "# 8. Sigma\n",
    "# 9. Tau\n",
    "# 10. Max speed\n",
    "\n",
    "#  <vType lcStrategic=\"10.0\" tau=\"1.0\" id=\"M1\" accel=\"2.14\" decel=\"7.5\" sigma=\"0.2\" length=\"3.456\" width=\"1.8\" maxSpeed=\"47.22\" vClass=\"passenger\" carFollowModel=\"Krauss\" color=\"255,255,0\" guiShape=\"passenger/wagon\" />\n",
    "\n",
    "def extract_informations(vehicle):\n",
    "    # Get the vehicle type\n",
    "    vehicleClass = traci.vehicle.getTypeID(vehicle)\n",
    "    # Get the vehicle position\n",
    "    x,y = traci.vehicle.getPosition(vehicle)\n",
    "    # Get the vehicle speed\n",
    "    speed = traci.vehicle.getSpeed(vehicle)\n",
    "    # Get the lateral speed\n",
    "    lateral_speed = traci.vehicle.getLateralSpeed(vehicle)\n",
    "    # Get the vehicle acceleration\n",
    "    acceleration = traci.vehicle.getAcceleration(vehicle)\n",
    "    # Get the vehicle deceleration\n",
    "    deceleration = traci.vehicle.getDecel(vehicle)\n",
    "    # Get the vehicle sigma\n",
    "    sigma = traci.vehicle.getImperfection(vehicle)\n",
    "    # Get the vehicle tau\n",
    "    tau = traci.vehicle.getTau(vehicle)\n",
    "    # Get the vehicle max speed\n",
    "    maxSpeed = traci.vehicle.getMaxSpeed(vehicle)\n",
    "    # Get the sorrounding vehicles\n",
    "    neigbors = traci.vehicle.getNeighbors(vehicle, 5)\n",
    "    \n",
    "    return vehicle, vehicleClass, x, y, speed, lateral_speed, acceleration, deceleration, sigma, tau, maxSpeed, neigbors"
   ],
   "id": "9aa92977c928cd95",
   "outputs": [],
   "execution_count": 16
  },
  {
   "metadata": {
    "ExecuteTime": {
     "end_time": "2025-03-04T12:03:36.710003Z",
     "start_time": "2025-03-04T11:54:42.904696Z"
    }
   },
   "cell_type": "code",
   "source": [
    "sumoBinary = \"D:/extern3/SUMO/bin/sumo.exe\"\n",
    "sumoCmd = [sumoBinary, \"-c\", \"D:/extern3/traffic/sumoCases/2LaneTrafficLearning/50kmMeasurement/Linear_2000_2_represent_traffic_5_0.1sec.sumocfg\"]\n",
    "\n",
    "df = pd.DataFrame(\n",
    "    columns=[\n",
    "        \"Step\",\n",
    "        \"Vehicle\", \n",
    "        \"VehicleClass\", \n",
    "        \"X\", \n",
    "        \"Y\", \n",
    "        \"Speed\", \n",
    "        \"LateralSpeed\", \n",
    "        \"Acceleration\", \n",
    "        \"Deceleration\", \n",
    "        \"Sigma\", \n",
    "        \"Tau\", \n",
    "        \"MaxSpeed\", \n",
    "        \"Neighbors\"\n",
    "    ])\n",
    "\n",
    "traci.start(sumoCmd)\n",
    "print(\"Simulation started\")\n",
    "step = 0\n",
    "while step < 100:\n",
    "    traci.simulationStep()\n",
    "    if step % 10 == 0:\n",
    "        print(\"Step: \", step)\n",
    "        print(\"Number of entries so far: \", len(df))\n",
    "    vehicles = traci.vehicle.getIDList()\n",
    "    # Pick 10 random vehicles\n",
    "    for vehicle in vehicles:\n",
    "        data = extract_informations(vehicle)\n",
    "        # Concatenate the data to the dataframe\n",
    "        data = [step] + list(data)\n",
    "        # Only save the data if the vehicle has more than 1 neighbor\n",
    "        if len(data[-1]) > 1:\n",
    "            if df.empty:\n",
    "                df = pd.DataFrame([data], columns=df.columns)\n",
    "            else:\n",
    "                df = pd.concat([df, pd.DataFrame([data], columns=df.columns)], ignore_index=True)                \n",
    "    step += 1\n",
    "    \n",
    "traci.close()\n",
    "print(\"Simulation ended\")"
   ],
   "id": "a93e4600e51e21bb",
   "outputs": [
    {
     "name": "stdout",
     "output_type": "stream",
     "text": [
      "Simulation started\n",
      "Step:  0\n",
      "Number of entries so far:  0\n",
      "Step:  10\n",
      "Number of entries so far:  0\n",
      "Step:  20\n",
      "Number of entries so far:  0\n",
      "Step:  30\n",
      "Number of entries so far:  0\n",
      "Step:  40\n",
      "Number of entries so far:  0\n",
      "Step:  50\n",
      "Number of entries so far:  0\n",
      "Step:  60\n",
      "Number of entries so far:  0\n",
      "Step:  70\n",
      "Number of entries so far:  0\n",
      "Step:  80\n",
      "Number of entries so far:  0\n",
      "Step:  90\n",
      "Number of entries so far:  0\n",
      "Simulation ended\n"
     ]
    }
   ],
   "execution_count": 22
  },
  {
   "metadata": {
    "ExecuteTime": {
     "end_time": "2025-03-04T12:11:41.260451Z",
     "start_time": "2025-03-04T12:11:35.206467Z"
    }
   },
   "cell_type": "code",
   "source": [
    "traci.start(sumoCmd)\n",
    "print(\"Simulation started\")\n",
    "step = 0\n",
    "while step < 12:\n",
    "    traci.simulationStep()\n",
    "    if step == 10:\n",
    "        print(\"Step: \", step)\n",
    "        vehicles = traci.vehicle.getIDList()\n",
    "        # Pick 10 random vehicles\n",
    "        random_array = np.random.choice(vehicles, 1)\n",
    "        for vehicle in random_array:\n",
    "            print(vehicle)\n",
    "            #print(traci.vehicle.getLaneID(vehicle))\n",
    "            print(\"Left Leaders \", traci.vehicle.getLeftLeaders(vehicle, 5))\n",
    "            print(\"Left Followers\", traci.vehicle.getLeftFollowers(vehicle, 5))\n",
    "            print(\"Right Leaders \", traci.vehicle.getRightLeaders(vehicle, 5))\n",
    "            print(\"Right Followers \", traci.vehicle.getRightFollowers(vehicle, 5))\n",
    "            print(\"Leaders \", traci.vehicle.getLeader(vehicle, 5))\n",
    "            print(\"Followers \", traci.vehicle.getFollower(vehicle, 5))\n",
    "            print(\"Neighbors \", traci.vehicle.getNeighbors(vehicle, 5))\n",
    "            \n",
    "            print(\"Sigma \", traci.vehicle.getImperfection(vehicle))\n",
    "            \n",
    "            \n",
    "    step += 1\n",
    "    \n",
    "traci.close()\n",
    "print(\"Simulation ended\")"
   ],
   "id": "acff5f38763bebb6",
   "outputs": [
    {
     "name": "stdout",
     "output_type": "stream",
     "text": [
      "Simulation started\n",
      "Step:  10\n",
      "HV1_5534\n",
      "Left Leaders  ()\n",
      "Left Followers (('SV4_5531', 12.917569810904817),)\n",
      "Right Leaders  ()\n",
      "Right Followers  ()\n",
      "Leaders  None\n",
      "Followers  ('CC1_5530', 20.230059764969283)\n",
      "Neighbors  ()\n",
      "Sigma  0.1\n",
      "Simulation ended\n"
     ]
    }
   ],
   "execution_count": 25
  },
  {
   "metadata": {
    "ExecuteTime": {
     "end_time": "2025-03-04T12:49:23.080724Z",
     "start_time": "2025-03-04T12:49:17.017945Z"
    }
   },
   "cell_type": "code",
   "source": [
    "traci.start(sumoCmd)\n",
    "print(\"Simulation started\")\n",
    "step = 0\n",
    "while step < 12:\n",
    "    traci.simulationStep()\n",
    "    if step == 10:\n",
    "        print(\"Step: \", step)\n",
    "        vehicles = traci.vehicle.getIDList()\n",
    "        # Pick 10 random vehicles\n",
    "        random_array = np.random.choice(vehicles, 1)\n",
    "        #random_array = ['MCY1_5622']\n",
    "        for vehicle in random_array:\n",
    "            print(vehicle)\n",
    "            #print(traci.vehicle.getLaneID(vehicle))\n",
    "            print(\"Left Leaders \", traci.vehicle.getLeftLeaders(vehicle))\n",
    "            print(\"Left Followers\", traci.vehicle.getLeftFollowers(vehicle))\n",
    "            print(\"Right Leaders \", traci.vehicle.getRightLeaders(vehicle))\n",
    "            print(\"Right Followers \", traci.vehicle.getRightFollowers(vehicle))\n",
    "            print(\"Leaders \", traci.vehicle.getLeader(vehicle, 1000))\n",
    "            print(\"Followers \", traci.vehicle.getFollower(vehicle, 1000))\n",
    "            print(\"Neighbors \", traci.vehicle.getNeighbors(vehicle, 0))\n",
    "            print(\"Neighbors \", traci.vehicle.getNeighbors(vehicle, 1))\n",
    "            print(\"Neighbors \", traci.vehicle.getNeighbors(vehicle, 2))\n",
    "            print(\"Neighbors \", traci.vehicle.getNeighbors(vehicle, 3))\n",
    "            print(\"Neighbors \", traci.vehicle.getNeighbors(vehicle, 4))\n",
    "            print(\"Neighbors \", traci.vehicle.getNeighbors(vehicle, 5))\n",
    "            print(\"Neighbors \", traci.vehicle.getNeighbors(vehicle, 6))\n",
    "            print(\"Neighbors \", traci.vehicle.getNeighbors(vehicle, 7))\n",
    "            \n",
    "            print(\"Sigma \", traci.vehicle.getImperfection(vehicle))\n",
    "            \n",
    "            \n",
    "    step += 1\n",
    "    \n",
    "traci.close()\n",
    "print(\"Simulation ended\")"
   ],
   "id": "46dbcda6edab043f",
   "outputs": [
    {
     "name": "stdout",
     "output_type": "stream",
     "text": [
      "Simulation started\n",
      "Step:  10\n",
      "MC3_1853\n",
      "Left Leaders  ()\n",
      "Left Followers ()\n",
      "Right Leaders  (('CC3_1856', 8.316090258353348),)\n",
      "Right Followers  (('HV3_1854', 24.640372692001996),)\n",
      "Leaders  ('HV1_1859', 23.140927183693954)\n",
      "Followers  ('MCY1_1850', 21.21209688426751)\n",
      "Neighbors  ()\n",
      "Neighbors  (('HV3_1854', 24.640372692001996),)\n",
      "Neighbors  ()\n",
      "Neighbors  (('CC3_1856', 8.316090258353348),)\n",
      "Neighbors  ()\n",
      "Neighbors  ()\n",
      "Neighbors  ()\n",
      "Neighbors  (('CC3_1856', 8.316090258353348),)\n",
      "Sigma  0.1\n",
      "Simulation ended\n"
     ]
    }
   ],
   "execution_count": 37
  },
  {
   "metadata": {},
   "cell_type": "code",
   "outputs": [],
   "execution_count": null,
   "source": "    ",
   "id": "2182f89e71391be4"
  }
 ],
 "metadata": {
  "kernelspec": {
   "display_name": "Python 3",
   "language": "python",
   "name": "python3"
  },
  "language_info": {
   "codemirror_mode": {
    "name": "ipython",
    "version": 2
   },
   "file_extension": ".py",
   "mimetype": "text/x-python",
   "name": "python",
   "nbconvert_exporter": "python",
   "pygments_lexer": "ipython2",
   "version": "2.7.6"
  }
 },
 "nbformat": 4,
 "nbformat_minor": 5
}
