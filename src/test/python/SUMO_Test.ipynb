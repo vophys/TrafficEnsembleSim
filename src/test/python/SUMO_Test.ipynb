{
 "cells": [
  {
   "metadata": {
    "ExecuteTime": {
     "end_time": "2025-03-25T15:52:41.869871Z",
     "start_time": "2025-03-25T15:52:38.829736Z"
    }
   },
   "cell_type": "code",
   "source": [
    "import traci\n",
    "import traci.constants as tc\n",
    "import pandas as pd\n",
    "import numpy as np\n",
    "\n",
    "# What do we have to extract from the simulation?\n",
    "# 1. Vehicle ID\n",
    "# 2. Vehicle type (includes length and width)\n",
    "# 3. Vehicle position\n",
    "# 4. Vehicle speed\n",
    "# 4a. Vehicle lateral speed\n",
    "# 5. Sorrounding vehicles (next 2 vehicles in front and behind and on the other lane)\n",
    "# 6. Vehicle acceleration\n",
    "# 7. Vehicle deceleration\n",
    "# 8. Sigma\n",
    "# 9. Tau\n",
    "# 10. Max speed\n",
    "\n",
    "#  <vType lcStrategic=\"10.0\" tau=\"1.0\" id=\"M1\" accel=\"2.14\" decel=\"7.5\" sigma=\"0.2\" length=\"3.456\" width=\"1.8\" maxSpeed=\"47.22\" vClass=\"passenger\" carFollowModel=\"Krauss\" color=\"255,255,0\" guiShape=\"passenger/wagon\" />\n",
    "\n",
    "def extract_informations(vehicle):\n",
    "    # Get the vehicle type\n",
    "    vehicleClass = traci.vehicle.getTypeID(vehicle)\n",
    "    # Get the vehicle position\n",
    "    x,y = traci.vehicle.getPosition(vehicle)\n",
    "    # Get the vehicle speed\n",
    "    speed = traci.vehicle.getSpeed(vehicle)\n",
    "    # Get the lateral speed\n",
    "    lateral_speed = traci.vehicle.getLateralSpeed(vehicle)\n",
    "    # Get the vehicle acceleration\n",
    "    acceleration = traci.vehicle.getAcceleration(vehicle)\n",
    "    # Get the vehicle deceleration\n",
    "    deceleration = traci.vehicle.getDecel(vehicle)\n",
    "    # Get the vehicle sigma\n",
    "    sigma = traci.vehicle.getImperfection(vehicle)\n",
    "    # Get the vehicle tau\n",
    "    tau = traci.vehicle.getTau(vehicle)\n",
    "    # Get the vehicle max speed\n",
    "    maxSpeed = traci.vehicle.getMaxSpeed(vehicle)\n",
    "    # Get the sorrounding vehicles\n",
    "    neigbors = traci.vehicle.getNeighbors(vehicle, 5)\n",
    "    \n",
    "    return vehicle, vehicleClass, x, y, speed, lateral_speed, acceleration, deceleration, sigma, tau, maxSpeed, neigbors"
   ],
   "id": "9aa92977c928cd95",
   "outputs": [],
   "execution_count": 1
  },
  {
   "metadata": {
    "ExecuteTime": {
     "end_time": "2025-03-25T15:52:56.539742Z",
     "start_time": "2025-03-25T15:52:42.661113Z"
    }
   },
   "cell_type": "code",
   "source": [
    "sumoBinary = \"D:/extern3/SUMO/bin/sumo.exe\"\n",
    "sumoCmd = [sumoBinary, \"-c\", \"D:\\extern3\\Traffic_input_method\\DemoCase\\50kmMeasurement\\Linear_2000_2_represent_traffic_5_0.1sec.sumocfg\"]\n",
    "\n",
    "df = pd.DataFrame(\n",
    "    columns=[\n",
    "        \"Step\",\n",
    "        \"Vehicle\", \n",
    "        \"VehicleClass\", \n",
    "        \"X\", \n",
    "        \"Y\", \n",
    "        \"Speed\", \n",
    "        \"LateralSpeed\", \n",
    "        \"Acceleration\", \n",
    "        \"Deceleration\", \n",
    "        \"Sigma\", \n",
    "        \"Tau\", \n",
    "        \"MaxSpeed\", \n",
    "        \"Neighbors\"\n",
    "    ])\n",
    "\n",
    "traci.start(sumoCmd)\n",
    "print(\"Simulation started\")\n",
    "step = 0\n",
    "while step < 100:\n",
    "    traci.simulationStep()\n",
    "    if step % 10 == 0:\n",
    "        print(\"Step: \", step)\n",
    "        print(\"Number of entries so far: \", len(df))\n",
    "    vehicles = traci.vehicle.getIDList()\n",
    "    # Pick 10 random vehicles\n",
    "    for vehicle in vehicles:\n",
    "        data = extract_informations(vehicle)\n",
    "        # Concatenate the data to the dataframe\n",
    "        data = [step] + list(data)\n",
    "        # Only save the data if the vehicle has more than 1 neighbor\n",
    "        if len(data[-1]) > 1:\n",
    "            if df.empty:\n",
    "                df = pd.DataFrame([data], columns=df.columns)\n",
    "            else:\n",
    "                df = pd.concat([df, pd.DataFrame([data], columns=df.columns)], ignore_index=True)                \n",
    "    step += 1\n",
    "    \n",
    "traci.close()\n",
    "print(\"Simulation ended\")"
   ],
   "id": "a93e4600e51e21bb",
   "outputs": [
    {
     "name": "stderr",
     "output_type": "stream",
     "text": [
      "D:\\extern3\\SUMO\\tools\\traci\\main.py:154: UserWarning: Could not connect to TraCI server using port 50273 (TraCI server already finished). Retrying with different port.\n",
      "  warnings.warn((\"Could not connect to TraCI server using port %s (%s).\" +\n",
      "D:\\extern3\\SUMO\\tools\\traci\\main.py:154: UserWarning: Could not connect to TraCI server using port 50276 (TraCI server already finished). Retrying with different port.\n",
      "  warnings.warn((\"Could not connect to TraCI server using port %s (%s).\" +\n",
      "D:\\extern3\\SUMO\\tools\\traci\\main.py:154: UserWarning: Could not connect to TraCI server using port 50278 (TraCI server already finished). Retrying with different port.\n",
      "  warnings.warn((\"Could not connect to TraCI server using port %s (%s).\" +\n",
      "D:\\extern3\\SUMO\\tools\\traci\\main.py:154: UserWarning: Could not connect to TraCI server using port 50280 (TraCI server already finished). Retrying with different port.\n",
      "  warnings.warn((\"Could not connect to TraCI server using port %s (%s).\" +\n",
      "D:\\extern3\\SUMO\\tools\\traci\\main.py:154: UserWarning: Could not connect to TraCI server using port 50282 (TraCI server already finished). Retrying with different port.\n",
      "  warnings.warn((\"Could not connect to TraCI server using port %s (%s).\" +\n"
     ]
    },
    {
     "ename": "KeyboardInterrupt",
     "evalue": "",
     "output_type": "error",
     "traceback": [
      "\u001B[1;31m---------------------------------------------------------------------------\u001B[0m",
      "\u001B[1;31mConnectionRefusedError\u001B[0m                    Traceback (most recent call last)",
      "File \u001B[1;32mD:\\extern3\\SUMO\\tools\\traci\\connection.py:83\u001B[0m, in \u001B[0;36mConnection.__init__\u001B[1;34m(self, host, port, process, traceFile, traceGetters, label)\u001B[0m\n\u001B[0;32m     82\u001B[0m \u001B[38;5;28;01mtry\u001B[39;00m:\n\u001B[1;32m---> 83\u001B[0m     \u001B[38;5;28;43mself\u001B[39;49m\u001B[38;5;241;43m.\u001B[39;49m\u001B[43m_socket\u001B[49m\u001B[38;5;241;43m.\u001B[39;49m\u001B[43mconnect\u001B[49m\u001B[43m(\u001B[49m\u001B[43m(\u001B[49m\u001B[43mhost\u001B[49m\u001B[43m,\u001B[49m\u001B[43m \u001B[49m\u001B[43mport\u001B[49m\u001B[43m)\u001B[49m\u001B[43m)\u001B[49m\n\u001B[0;32m     84\u001B[0m \u001B[38;5;28;01mexcept\u001B[39;00m socket\u001B[38;5;241m.\u001B[39merror:\n",
      "\u001B[1;31mConnectionRefusedError\u001B[0m: [WinError 10061] Es konnte keine Verbindung hergestellt werden, da der Zielcomputer die Verbindung verweigerte",
      "\nDuring handling of the above exception, another exception occurred:\n",
      "\u001B[1;31mKeyboardInterrupt\u001B[0m                         Traceback (most recent call last)",
      "Cell \u001B[1;32mIn[2], line 21\u001B[0m\n\u001B[0;32m      2\u001B[0m sumoCmd \u001B[38;5;241m=\u001B[39m [sumoBinary, \u001B[38;5;124m\"\u001B[39m\u001B[38;5;124m-c\u001B[39m\u001B[38;5;124m\"\u001B[39m, \u001B[38;5;124m\"\u001B[39m\u001B[38;5;124mD:\u001B[39m\u001B[38;5;124m\\\u001B[39m\u001B[38;5;124mextern3\u001B[39m\u001B[38;5;124m\\\u001B[39m\u001B[38;5;124mTraffic_input_method\u001B[39m\u001B[38;5;124m\\\u001B[39m\u001B[38;5;124mDemoCase\u001B[39m\u001B[38;5;130;01m\\50\u001B[39;00m\u001B[38;5;124mkmMeasurement\u001B[39m\u001B[38;5;124m\\\u001B[39m\u001B[38;5;124mLinear_2000_2_represent_traffic_5_0.1sec.sumocfg\u001B[39m\u001B[38;5;124m\"\u001B[39m]\n\u001B[0;32m      4\u001B[0m df \u001B[38;5;241m=\u001B[39m pd\u001B[38;5;241m.\u001B[39mDataFrame(\n\u001B[0;32m      5\u001B[0m     columns\u001B[38;5;241m=\u001B[39m[\n\u001B[0;32m      6\u001B[0m         \u001B[38;5;124m\"\u001B[39m\u001B[38;5;124mStep\u001B[39m\u001B[38;5;124m\"\u001B[39m,\n\u001B[1;32m   (...)\u001B[0m\n\u001B[0;32m     18\u001B[0m         \u001B[38;5;124m\"\u001B[39m\u001B[38;5;124mNeighbors\u001B[39m\u001B[38;5;124m\"\u001B[39m\n\u001B[0;32m     19\u001B[0m     ])\n\u001B[1;32m---> 21\u001B[0m \u001B[43mtraci\u001B[49m\u001B[38;5;241;43m.\u001B[39;49m\u001B[43mstart\u001B[49m\u001B[43m(\u001B[49m\u001B[43msumoCmd\u001B[49m\u001B[43m)\u001B[49m\n\u001B[0;32m     22\u001B[0m \u001B[38;5;28mprint\u001B[39m(\u001B[38;5;124m\"\u001B[39m\u001B[38;5;124mSimulation started\u001B[39m\u001B[38;5;124m\"\u001B[39m)\n\u001B[0;32m     23\u001B[0m step \u001B[38;5;241m=\u001B[39m \u001B[38;5;241m0\u001B[39m\n",
      "File \u001B[1;32mD:\\extern3\\SUMO\\tools\\traci\\main.py:147\u001B[0m, in \u001B[0;36mstart\u001B[1;34m(cmd, port, numRetries, label, verbose, traceFile, traceGetters, stdout, doSwitch)\u001B[0m\n\u001B[0;32m    145\u001B[0m sumoProcess \u001B[38;5;241m=\u001B[39m subprocess\u001B[38;5;241m.\u001B[39mPopen(cmd2, stdout\u001B[38;5;241m=\u001B[39mstdout)\n\u001B[0;32m    146\u001B[0m \u001B[38;5;28;01mtry\u001B[39;00m:\n\u001B[1;32m--> 147\u001B[0m     result \u001B[38;5;241m=\u001B[39m \u001B[43minit\u001B[49m\u001B[43m(\u001B[49m\u001B[43msumoPort\u001B[49m\u001B[43m,\u001B[49m\u001B[43m \u001B[49m\u001B[43mnumRetries\u001B[49m\u001B[43m,\u001B[49m\u001B[43m \u001B[49m\u001B[38;5;124;43m\"\u001B[39;49m\u001B[38;5;124;43mlocalhost\u001B[39;49m\u001B[38;5;124;43m\"\u001B[39;49m\u001B[43m,\u001B[49m\u001B[43m \u001B[49m\u001B[43mlabel\u001B[49m\u001B[43m,\u001B[49m\u001B[43m \u001B[49m\u001B[43msumoProcess\u001B[49m\u001B[43m,\u001B[49m\u001B[43m \u001B[49m\u001B[43mdoSwitch\u001B[49m\u001B[43m,\u001B[49m\u001B[43m \u001B[49m\u001B[43mtraceFile\u001B[49m\u001B[43m,\u001B[49m\u001B[43m \u001B[49m\u001B[43mtraceGetters\u001B[49m\u001B[43m)\u001B[49m\n\u001B[0;32m    148\u001B[0m     \u001B[38;5;28;01mif\u001B[39;00m traceFile \u001B[38;5;129;01mis\u001B[39;00m \u001B[38;5;129;01mnot\u001B[39;00m \u001B[38;5;28;01mNone\u001B[39;00m:\n\u001B[0;32m    149\u001B[0m         connection\u001B[38;5;241m.\u001B[39mget(label)\u001B[38;5;241m.\u001B[39mwrite(\u001B[38;5;124m\"\u001B[39m\u001B[38;5;124mstart\u001B[39m\u001B[38;5;124m\"\u001B[39m, \u001B[38;5;124m\"\u001B[39m\u001B[38;5;132;01m%s\u001B[39;00m\u001B[38;5;124m, port=\u001B[39m\u001B[38;5;132;01m%s\u001B[39;00m\u001B[38;5;124m, label=\u001B[39m\u001B[38;5;132;01m%s\u001B[39;00m\u001B[38;5;124m\"\u001B[39m \u001B[38;5;241m%\u001B[39m (\u001B[38;5;28mrepr\u001B[39m(cmd), \u001B[38;5;28mrepr\u001B[39m(port), \u001B[38;5;28mrepr\u001B[39m(label)))\n",
      "File \u001B[1;32mD:\\extern3\\SUMO\\tools\\traci\\main.py:116\u001B[0m, in \u001B[0;36minit\u001B[1;34m(port, numRetries, host, label, proc, doSwitch, traceFile, traceGetters)\u001B[0m\n\u001B[0;32m    109\u001B[0m \u001B[38;5;28;01mdef\u001B[39;00m \u001B[38;5;21minit\u001B[39m(port\u001B[38;5;241m=\u001B[39m\u001B[38;5;241m8813\u001B[39m, numRetries\u001B[38;5;241m=\u001B[39mtc\u001B[38;5;241m.\u001B[39mDEFAULT_NUM_RETRIES, host\u001B[38;5;241m=\u001B[39m\u001B[38;5;124m\"\u001B[39m\u001B[38;5;124mlocalhost\u001B[39m\u001B[38;5;124m\"\u001B[39m, label\u001B[38;5;241m=\u001B[39m\u001B[38;5;124m\"\u001B[39m\u001B[38;5;124mdefault\u001B[39m\u001B[38;5;124m\"\u001B[39m, proc\u001B[38;5;241m=\u001B[39m\u001B[38;5;28;01mNone\u001B[39;00m, doSwitch\u001B[38;5;241m=\u001B[39m\u001B[38;5;28;01mTrue\u001B[39;00m,\n\u001B[0;32m    110\u001B[0m          traceFile\u001B[38;5;241m=\u001B[39m\u001B[38;5;28;01mNone\u001B[39;00m, traceGetters\u001B[38;5;241m=\u001B[39m\u001B[38;5;28;01mTrue\u001B[39;00m):\n\u001B[0;32m    111\u001B[0m \u001B[38;5;250m    \u001B[39m\u001B[38;5;124;03m\"\"\"\u001B[39;00m\n\u001B[0;32m    112\u001B[0m \u001B[38;5;124;03m    Establish a connection to a TraCI-Server and store it under the given\u001B[39;00m\n\u001B[0;32m    113\u001B[0m \u001B[38;5;124;03m    label. This method is not thread-safe. It accesses the connection\u001B[39;00m\n\u001B[0;32m    114\u001B[0m \u001B[38;5;124;03m    pool concurrently.\u001B[39;00m\n\u001B[0;32m    115\u001B[0m \u001B[38;5;124;03m    \"\"\"\u001B[39;00m\n\u001B[1;32m--> 116\u001B[0m     con \u001B[38;5;241m=\u001B[39m \u001B[43mconnect\u001B[49m\u001B[43m(\u001B[49m\u001B[43mport\u001B[49m\u001B[43m,\u001B[49m\u001B[43m \u001B[49m\u001B[43mnumRetries\u001B[49m\u001B[43m,\u001B[49m\u001B[43m \u001B[49m\u001B[43mhost\u001B[49m\u001B[43m,\u001B[49m\u001B[43m \u001B[49m\u001B[43mproc\u001B[49m\u001B[43m,\u001B[49m\u001B[43m \u001B[49m\u001B[38;5;241;43m1\u001B[39;49m\u001B[43m,\u001B[49m\u001B[43m \u001B[49m\u001B[43mtraceFile\u001B[49m\u001B[43m,\u001B[49m\u001B[43m \u001B[49m\u001B[43mtraceGetters\u001B[49m\u001B[43m,\u001B[49m\u001B[43m \u001B[49m\u001B[43mlabel\u001B[49m\u001B[43m)\u001B[49m\n\u001B[0;32m    117\u001B[0m     \u001B[38;5;28;01mif\u001B[39;00m doSwitch:\n\u001B[0;32m    118\u001B[0m         switch(label)\n",
      "File \u001B[1;32mD:\\extern3\\SUMO\\tools\\traci\\main.py:97\u001B[0m, in \u001B[0;36mconnect\u001B[1;34m(port, numRetries, host, proc, waitBetweenRetries, traceFile, traceGetters, label)\u001B[0m\n\u001B[0;32m     95\u001B[0m \u001B[38;5;28;01mfor\u001B[39;00m retry \u001B[38;5;129;01min\u001B[39;00m \u001B[38;5;28mrange\u001B[39m(\u001B[38;5;241m1\u001B[39m, numRetries \u001B[38;5;241m+\u001B[39m \u001B[38;5;241m2\u001B[39m):\n\u001B[0;32m     96\u001B[0m     \u001B[38;5;28;01mtry\u001B[39;00m:\n\u001B[1;32m---> 97\u001B[0m         \u001B[38;5;28;01mreturn\u001B[39;00m \u001B[43mconnection\u001B[49m\u001B[38;5;241;43m.\u001B[39;49m\u001B[43mConnection\u001B[49m\u001B[43m(\u001B[49m\u001B[43mhost\u001B[49m\u001B[43m,\u001B[49m\u001B[43m \u001B[49m\u001B[43mport\u001B[49m\u001B[43m,\u001B[49m\u001B[43m \u001B[49m\u001B[43mproc\u001B[49m\u001B[43m,\u001B[49m\u001B[43m \u001B[49m\u001B[43mtraceFile\u001B[49m\u001B[43m,\u001B[49m\u001B[43m \u001B[49m\u001B[43mtraceGetters\u001B[49m\u001B[43m,\u001B[49m\u001B[43m \u001B[49m\u001B[43mlabel\u001B[49m\u001B[43m)\u001B[49m\n\u001B[0;32m     98\u001B[0m     \u001B[38;5;28;01mexcept\u001B[39;00m socket\u001B[38;5;241m.\u001B[39merror \u001B[38;5;28;01mas\u001B[39;00m e:\n\u001B[0;32m     99\u001B[0m         \u001B[38;5;28;01mif\u001B[39;00m proc \u001B[38;5;129;01mis\u001B[39;00m \u001B[38;5;129;01mnot\u001B[39;00m \u001B[38;5;28;01mNone\u001B[39;00m \u001B[38;5;129;01mand\u001B[39;00m proc\u001B[38;5;241m.\u001B[39mpoll() \u001B[38;5;129;01mis\u001B[39;00m \u001B[38;5;129;01mnot\u001B[39;00m \u001B[38;5;28;01mNone\u001B[39;00m:\n",
      "File \u001B[1;32mD:\\extern3\\SUMO\\tools\\traci\\connection.py:83\u001B[0m, in \u001B[0;36mConnection.__init__\u001B[1;34m(self, host, port, process, traceFile, traceGetters, label)\u001B[0m\n\u001B[0;32m     81\u001B[0m \u001B[38;5;28mself\u001B[39m\u001B[38;5;241m.\u001B[39m_socket\u001B[38;5;241m.\u001B[39msetsockopt(socket\u001B[38;5;241m.\u001B[39mIPPROTO_TCP, socket\u001B[38;5;241m.\u001B[39mTCP_NODELAY, \u001B[38;5;241m1\u001B[39m)\n\u001B[0;32m     82\u001B[0m \u001B[38;5;28;01mtry\u001B[39;00m:\n\u001B[1;32m---> 83\u001B[0m     \u001B[38;5;28;43mself\u001B[39;49m\u001B[38;5;241;43m.\u001B[39;49m\u001B[43m_socket\u001B[49m\u001B[38;5;241;43m.\u001B[39;49m\u001B[43mconnect\u001B[49m\u001B[43m(\u001B[49m\u001B[43m(\u001B[49m\u001B[43mhost\u001B[49m\u001B[43m,\u001B[49m\u001B[43m \u001B[49m\u001B[43mport\u001B[49m\u001B[43m)\u001B[49m\u001B[43m)\u001B[49m\n\u001B[0;32m     84\u001B[0m \u001B[38;5;28;01mexcept\u001B[39;00m socket\u001B[38;5;241m.\u001B[39merror:\n\u001B[0;32m     85\u001B[0m     \u001B[38;5;28mself\u001B[39m\u001B[38;5;241m.\u001B[39m_socket\u001B[38;5;241m.\u001B[39mclose()\n",
      "\u001B[1;31mKeyboardInterrupt\u001B[0m: "
     ]
    }
   ],
   "execution_count": 2
  },
  {
   "metadata": {
    "ExecuteTime": {
     "end_time": "2025-03-25T15:53:27.149683Z",
     "start_time": "2025-03-25T15:53:18.978347Z"
    }
   },
   "cell_type": "code",
   "source": [
    "traci.start(sumoCmd)\n",
    "print(\"Simulation started\")\n",
    "step = 0\n",
    "while step < 12:\n",
    "    traci.simulationStep()\n",
    "    if step == 10:\n",
    "        print(\"Step: \", step)\n",
    "        vehicles = traci.vehicle.getIDList()\n",
    "        # Pick 10 random vehicles\n",
    "        random_array = np.random.choice(vehicles, 1)\n",
    "        for vehicle in random_array:\n",
    "            print(vehicle)\n",
    "            #print(traci.vehicle.getLaneID(vehicle))\n",
    "            print(\"Left Leaders \", traci.vehicle.getLeftLeaders(vehicle, 5))\n",
    "            print(\"Left Followers\", traci.vehicle.getLeftFollowers(vehicle, 5))\n",
    "            print(\"Right Leaders \", traci.vehicle.getRightLeaders(vehicle, 5))\n",
    "            print(\"Right Followers \", traci.vehicle.getRightFollowers(vehicle, 5))\n",
    "            print(\"Leaders \", traci.vehicle.getLeader(vehicle, 5))\n",
    "            print(\"Followers \", traci.vehicle.getFollower(vehicle, 5))\n",
    "            print(\"Neighbors \", traci.vehicle.getNeighbors(vehicle, 5))\n",
    "            \n",
    "            print(\"Sigma \", traci.vehicle.getImperfection(vehicle))\n",
    "            \n",
    "            \n",
    "    step += 1\n",
    "    \n",
    "traci.close()\n",
    "print(\"Simulation ended\")"
   ],
   "id": "acff5f38763bebb6",
   "outputs": [
    {
     "name": "stderr",
     "output_type": "stream",
     "text": [
      "D:\\extern3\\SUMO\\tools\\traci\\main.py:154: UserWarning: Could not connect to TraCI server using port 50286 (TraCI server already finished). Retrying with different port.\n",
      "  warnings.warn((\"Could not connect to TraCI server using port %s (%s).\" +\n",
      "D:\\extern3\\SUMO\\tools\\traci\\main.py:154: UserWarning: Could not connect to TraCI server using port 50292 (TraCI server already finished). Retrying with different port.\n",
      "  warnings.warn((\"Could not connect to TraCI server using port %s (%s).\" +\n",
      "D:\\extern3\\SUMO\\tools\\traci\\main.py:154: UserWarning: Could not connect to TraCI server using port 50306 (TraCI server already finished). Retrying with different port.\n",
      "  warnings.warn((\"Could not connect to TraCI server using port %s (%s).\" +\n"
     ]
    },
    {
     "ename": "KeyboardInterrupt",
     "evalue": "",
     "output_type": "error",
     "traceback": [
      "\u001B[1;31m---------------------------------------------------------------------------\u001B[0m",
      "\u001B[1;31mConnectionRefusedError\u001B[0m                    Traceback (most recent call last)",
      "File \u001B[1;32mD:\\extern3\\SUMO\\tools\\traci\\connection.py:83\u001B[0m, in \u001B[0;36mConnection.__init__\u001B[1;34m(self, host, port, process, traceFile, traceGetters, label)\u001B[0m\n\u001B[0;32m     82\u001B[0m \u001B[38;5;28;01mtry\u001B[39;00m:\n\u001B[1;32m---> 83\u001B[0m     \u001B[38;5;28;43mself\u001B[39;49m\u001B[38;5;241;43m.\u001B[39;49m\u001B[43m_socket\u001B[49m\u001B[38;5;241;43m.\u001B[39;49m\u001B[43mconnect\u001B[49m\u001B[43m(\u001B[49m\u001B[43m(\u001B[49m\u001B[43mhost\u001B[49m\u001B[43m,\u001B[49m\u001B[43m \u001B[49m\u001B[43mport\u001B[49m\u001B[43m)\u001B[49m\u001B[43m)\u001B[49m\n\u001B[0;32m     84\u001B[0m \u001B[38;5;28;01mexcept\u001B[39;00m socket\u001B[38;5;241m.\u001B[39merror:\n",
      "\u001B[1;31mConnectionRefusedError\u001B[0m: [WinError 10061] Es konnte keine Verbindung hergestellt werden, da der Zielcomputer die Verbindung verweigerte",
      "\nDuring handling of the above exception, another exception occurred:\n",
      "\u001B[1;31mKeyboardInterrupt\u001B[0m                         Traceback (most recent call last)",
      "Cell \u001B[1;32mIn[3], line 1\u001B[0m\n\u001B[1;32m----> 1\u001B[0m \u001B[43mtraci\u001B[49m\u001B[38;5;241;43m.\u001B[39;49m\u001B[43mstart\u001B[49m\u001B[43m(\u001B[49m\u001B[43msumoCmd\u001B[49m\u001B[43m)\u001B[49m\n\u001B[0;32m      2\u001B[0m \u001B[38;5;28mprint\u001B[39m(\u001B[38;5;124m\"\u001B[39m\u001B[38;5;124mSimulation started\u001B[39m\u001B[38;5;124m\"\u001B[39m)\n\u001B[0;32m      3\u001B[0m step \u001B[38;5;241m=\u001B[39m \u001B[38;5;241m0\u001B[39m\n",
      "File \u001B[1;32mD:\\extern3\\SUMO\\tools\\traci\\main.py:147\u001B[0m, in \u001B[0;36mstart\u001B[1;34m(cmd, port, numRetries, label, verbose, traceFile, traceGetters, stdout, doSwitch)\u001B[0m\n\u001B[0;32m    145\u001B[0m sumoProcess \u001B[38;5;241m=\u001B[39m subprocess\u001B[38;5;241m.\u001B[39mPopen(cmd2, stdout\u001B[38;5;241m=\u001B[39mstdout)\n\u001B[0;32m    146\u001B[0m \u001B[38;5;28;01mtry\u001B[39;00m:\n\u001B[1;32m--> 147\u001B[0m     result \u001B[38;5;241m=\u001B[39m \u001B[43minit\u001B[49m\u001B[43m(\u001B[49m\u001B[43msumoPort\u001B[49m\u001B[43m,\u001B[49m\u001B[43m \u001B[49m\u001B[43mnumRetries\u001B[49m\u001B[43m,\u001B[49m\u001B[43m \u001B[49m\u001B[38;5;124;43m\"\u001B[39;49m\u001B[38;5;124;43mlocalhost\u001B[39;49m\u001B[38;5;124;43m\"\u001B[39;49m\u001B[43m,\u001B[49m\u001B[43m \u001B[49m\u001B[43mlabel\u001B[49m\u001B[43m,\u001B[49m\u001B[43m \u001B[49m\u001B[43msumoProcess\u001B[49m\u001B[43m,\u001B[49m\u001B[43m \u001B[49m\u001B[43mdoSwitch\u001B[49m\u001B[43m,\u001B[49m\u001B[43m \u001B[49m\u001B[43mtraceFile\u001B[49m\u001B[43m,\u001B[49m\u001B[43m \u001B[49m\u001B[43mtraceGetters\u001B[49m\u001B[43m)\u001B[49m\n\u001B[0;32m    148\u001B[0m     \u001B[38;5;28;01mif\u001B[39;00m traceFile \u001B[38;5;129;01mis\u001B[39;00m \u001B[38;5;129;01mnot\u001B[39;00m \u001B[38;5;28;01mNone\u001B[39;00m:\n\u001B[0;32m    149\u001B[0m         connection\u001B[38;5;241m.\u001B[39mget(label)\u001B[38;5;241m.\u001B[39mwrite(\u001B[38;5;124m\"\u001B[39m\u001B[38;5;124mstart\u001B[39m\u001B[38;5;124m\"\u001B[39m, \u001B[38;5;124m\"\u001B[39m\u001B[38;5;132;01m%s\u001B[39;00m\u001B[38;5;124m, port=\u001B[39m\u001B[38;5;132;01m%s\u001B[39;00m\u001B[38;5;124m, label=\u001B[39m\u001B[38;5;132;01m%s\u001B[39;00m\u001B[38;5;124m\"\u001B[39m \u001B[38;5;241m%\u001B[39m (\u001B[38;5;28mrepr\u001B[39m(cmd), \u001B[38;5;28mrepr\u001B[39m(port), \u001B[38;5;28mrepr\u001B[39m(label)))\n",
      "File \u001B[1;32mD:\\extern3\\SUMO\\tools\\traci\\main.py:116\u001B[0m, in \u001B[0;36minit\u001B[1;34m(port, numRetries, host, label, proc, doSwitch, traceFile, traceGetters)\u001B[0m\n\u001B[0;32m    109\u001B[0m \u001B[38;5;28;01mdef\u001B[39;00m \u001B[38;5;21minit\u001B[39m(port\u001B[38;5;241m=\u001B[39m\u001B[38;5;241m8813\u001B[39m, numRetries\u001B[38;5;241m=\u001B[39mtc\u001B[38;5;241m.\u001B[39mDEFAULT_NUM_RETRIES, host\u001B[38;5;241m=\u001B[39m\u001B[38;5;124m\"\u001B[39m\u001B[38;5;124mlocalhost\u001B[39m\u001B[38;5;124m\"\u001B[39m, label\u001B[38;5;241m=\u001B[39m\u001B[38;5;124m\"\u001B[39m\u001B[38;5;124mdefault\u001B[39m\u001B[38;5;124m\"\u001B[39m, proc\u001B[38;5;241m=\u001B[39m\u001B[38;5;28;01mNone\u001B[39;00m, doSwitch\u001B[38;5;241m=\u001B[39m\u001B[38;5;28;01mTrue\u001B[39;00m,\n\u001B[0;32m    110\u001B[0m          traceFile\u001B[38;5;241m=\u001B[39m\u001B[38;5;28;01mNone\u001B[39;00m, traceGetters\u001B[38;5;241m=\u001B[39m\u001B[38;5;28;01mTrue\u001B[39;00m):\n\u001B[0;32m    111\u001B[0m \u001B[38;5;250m    \u001B[39m\u001B[38;5;124;03m\"\"\"\u001B[39;00m\n\u001B[0;32m    112\u001B[0m \u001B[38;5;124;03m    Establish a connection to a TraCI-Server and store it under the given\u001B[39;00m\n\u001B[0;32m    113\u001B[0m \u001B[38;5;124;03m    label. This method is not thread-safe. It accesses the connection\u001B[39;00m\n\u001B[0;32m    114\u001B[0m \u001B[38;5;124;03m    pool concurrently.\u001B[39;00m\n\u001B[0;32m    115\u001B[0m \u001B[38;5;124;03m    \"\"\"\u001B[39;00m\n\u001B[1;32m--> 116\u001B[0m     con \u001B[38;5;241m=\u001B[39m \u001B[43mconnect\u001B[49m\u001B[43m(\u001B[49m\u001B[43mport\u001B[49m\u001B[43m,\u001B[49m\u001B[43m \u001B[49m\u001B[43mnumRetries\u001B[49m\u001B[43m,\u001B[49m\u001B[43m \u001B[49m\u001B[43mhost\u001B[49m\u001B[43m,\u001B[49m\u001B[43m \u001B[49m\u001B[43mproc\u001B[49m\u001B[43m,\u001B[49m\u001B[43m \u001B[49m\u001B[38;5;241;43m1\u001B[39;49m\u001B[43m,\u001B[49m\u001B[43m \u001B[49m\u001B[43mtraceFile\u001B[49m\u001B[43m,\u001B[49m\u001B[43m \u001B[49m\u001B[43mtraceGetters\u001B[49m\u001B[43m,\u001B[49m\u001B[43m \u001B[49m\u001B[43mlabel\u001B[49m\u001B[43m)\u001B[49m\n\u001B[0;32m    117\u001B[0m     \u001B[38;5;28;01mif\u001B[39;00m doSwitch:\n\u001B[0;32m    118\u001B[0m         switch(label)\n",
      "File \u001B[1;32mD:\\extern3\\SUMO\\tools\\traci\\main.py:97\u001B[0m, in \u001B[0;36mconnect\u001B[1;34m(port, numRetries, host, proc, waitBetweenRetries, traceFile, traceGetters, label)\u001B[0m\n\u001B[0;32m     95\u001B[0m \u001B[38;5;28;01mfor\u001B[39;00m retry \u001B[38;5;129;01min\u001B[39;00m \u001B[38;5;28mrange\u001B[39m(\u001B[38;5;241m1\u001B[39m, numRetries \u001B[38;5;241m+\u001B[39m \u001B[38;5;241m2\u001B[39m):\n\u001B[0;32m     96\u001B[0m     \u001B[38;5;28;01mtry\u001B[39;00m:\n\u001B[1;32m---> 97\u001B[0m         \u001B[38;5;28;01mreturn\u001B[39;00m \u001B[43mconnection\u001B[49m\u001B[38;5;241;43m.\u001B[39;49m\u001B[43mConnection\u001B[49m\u001B[43m(\u001B[49m\u001B[43mhost\u001B[49m\u001B[43m,\u001B[49m\u001B[43m \u001B[49m\u001B[43mport\u001B[49m\u001B[43m,\u001B[49m\u001B[43m \u001B[49m\u001B[43mproc\u001B[49m\u001B[43m,\u001B[49m\u001B[43m \u001B[49m\u001B[43mtraceFile\u001B[49m\u001B[43m,\u001B[49m\u001B[43m \u001B[49m\u001B[43mtraceGetters\u001B[49m\u001B[43m,\u001B[49m\u001B[43m \u001B[49m\u001B[43mlabel\u001B[49m\u001B[43m)\u001B[49m\n\u001B[0;32m     98\u001B[0m     \u001B[38;5;28;01mexcept\u001B[39;00m socket\u001B[38;5;241m.\u001B[39merror \u001B[38;5;28;01mas\u001B[39;00m e:\n\u001B[0;32m     99\u001B[0m         \u001B[38;5;28;01mif\u001B[39;00m proc \u001B[38;5;129;01mis\u001B[39;00m \u001B[38;5;129;01mnot\u001B[39;00m \u001B[38;5;28;01mNone\u001B[39;00m \u001B[38;5;129;01mand\u001B[39;00m proc\u001B[38;5;241m.\u001B[39mpoll() \u001B[38;5;129;01mis\u001B[39;00m \u001B[38;5;129;01mnot\u001B[39;00m \u001B[38;5;28;01mNone\u001B[39;00m:\n",
      "File \u001B[1;32mD:\\extern3\\SUMO\\tools\\traci\\connection.py:83\u001B[0m, in \u001B[0;36mConnection.__init__\u001B[1;34m(self, host, port, process, traceFile, traceGetters, label)\u001B[0m\n\u001B[0;32m     81\u001B[0m \u001B[38;5;28mself\u001B[39m\u001B[38;5;241m.\u001B[39m_socket\u001B[38;5;241m.\u001B[39msetsockopt(socket\u001B[38;5;241m.\u001B[39mIPPROTO_TCP, socket\u001B[38;5;241m.\u001B[39mTCP_NODELAY, \u001B[38;5;241m1\u001B[39m)\n\u001B[0;32m     82\u001B[0m \u001B[38;5;28;01mtry\u001B[39;00m:\n\u001B[1;32m---> 83\u001B[0m     \u001B[38;5;28;43mself\u001B[39;49m\u001B[38;5;241;43m.\u001B[39;49m\u001B[43m_socket\u001B[49m\u001B[38;5;241;43m.\u001B[39;49m\u001B[43mconnect\u001B[49m\u001B[43m(\u001B[49m\u001B[43m(\u001B[49m\u001B[43mhost\u001B[49m\u001B[43m,\u001B[49m\u001B[43m \u001B[49m\u001B[43mport\u001B[49m\u001B[43m)\u001B[49m\u001B[43m)\u001B[49m\n\u001B[0;32m     84\u001B[0m \u001B[38;5;28;01mexcept\u001B[39;00m socket\u001B[38;5;241m.\u001B[39merror:\n\u001B[0;32m     85\u001B[0m     \u001B[38;5;28mself\u001B[39m\u001B[38;5;241m.\u001B[39m_socket\u001B[38;5;241m.\u001B[39mclose()\n",
      "\u001B[1;31mKeyboardInterrupt\u001B[0m: "
     ]
    }
   ],
   "execution_count": 3
  },
  {
   "metadata": {
    "ExecuteTime": {
     "end_time": "2025-03-25T15:53:57.461834Z",
     "start_time": "2025-03-25T15:53:51.310973Z"
    }
   },
   "cell_type": "code",
   "source": [
    "traci.start(sumoCmd)\n",
    "print(\"Simulation started\")\n",
    "step = 0\n",
    "while step < 12:\n",
    "    traci.simulationStep()\n",
    "    if step == 10:\n",
    "        print(\"Step: \", step)\n",
    "        vehicles = traci.vehicle.getIDList()\n",
    "        # Pick 10 random vehicles\n",
    "        random_array = np.random.choice(vehicles, 1)\n",
    "        #random_array = ['MCY1_5622']\n",
    "        for vehicle in random_array:\n",
    "            print(vehicle)\n",
    "            #print(traci.vehicle.getLaneID(vehicle))\n",
    "            print(\"Left Leaders \", traci.vehicle.getLeftLeaders(vehicle))\n",
    "            print(\"Left Followers\", traci.vehicle.getLeftFollowers(vehicle))\n",
    "            print(\"Right Leaders \", traci.vehicle.getRightLeaders(vehicle))\n",
    "            print(\"Right Followers \", traci.vehicle.getRightFollowers(vehicle))\n",
    "            print(\"Leaders \", traci.vehicle.getLeader(vehicle, 1000))\n",
    "            print(\"Followers \", traci.vehicle.getFollower(vehicle, 1000))\n",
    "            print(\"Neighbors \", traci.vehicle.getNeighbors(vehicle, 0))\n",
    "            print(\"Neighbors \", traci.vehicle.getNeighbors(vehicle, 1))\n",
    "            print(\"Neighbors \", traci.vehicle.getNeighbors(vehicle, 2))\n",
    "            print(\"Neighbors \", traci.vehicle.getNeighbors(vehicle, 3))\n",
    "            print(\"Neighbors \", traci.vehicle.getNeighbors(vehicle, 4))\n",
    "            print(\"Neighbors \", traci.vehicle.getNeighbors(vehicle, 5))\n",
    "            print(\"Neighbors \", traci.vehicle.getNeighbors(vehicle, 6))\n",
    "            print(\"Neighbors \", traci.vehicle.getNeighbors(vehicle, 7))\n",
    "            \n",
    "            print(\"Sigma \", traci.vehicle.getImperfection(vehicle))\n",
    "            \n",
    "            \n",
    "    step += 1\n",
    "    \n",
    "traci.close()\n",
    "print(\"Simulation ended\")"
   ],
   "id": "46dbcda6edab043f",
   "outputs": [
    {
     "name": "stderr",
     "output_type": "stream",
     "text": [
      "D:\\extern3\\SUMO\\tools\\traci\\main.py:154: UserWarning: Could not connect to TraCI server using port 50344 (TraCI server already finished). Retrying with different port.\n",
      "  warnings.warn((\"Could not connect to TraCI server using port %s (%s).\" +\n",
      "D:\\extern3\\SUMO\\tools\\traci\\main.py:154: UserWarning: Could not connect to TraCI server using port 50346 (TraCI server already finished). Retrying with different port.\n",
      "  warnings.warn((\"Could not connect to TraCI server using port %s (%s).\" +\n"
     ]
    },
    {
     "ename": "KeyboardInterrupt",
     "evalue": "",
     "output_type": "error",
     "traceback": [
      "\u001B[1;31m---------------------------------------------------------------------------\u001B[0m",
      "\u001B[1;31mConnectionRefusedError\u001B[0m                    Traceback (most recent call last)",
      "File \u001B[1;32mD:\\extern3\\SUMO\\tools\\traci\\connection.py:83\u001B[0m, in \u001B[0;36mConnection.__init__\u001B[1;34m(self, host, port, process, traceFile, traceGetters, label)\u001B[0m\n\u001B[0;32m     82\u001B[0m \u001B[38;5;28;01mtry\u001B[39;00m:\n\u001B[1;32m---> 83\u001B[0m     \u001B[38;5;28;43mself\u001B[39;49m\u001B[38;5;241;43m.\u001B[39;49m\u001B[43m_socket\u001B[49m\u001B[38;5;241;43m.\u001B[39;49m\u001B[43mconnect\u001B[49m\u001B[43m(\u001B[49m\u001B[43m(\u001B[49m\u001B[43mhost\u001B[49m\u001B[43m,\u001B[49m\u001B[43m \u001B[49m\u001B[43mport\u001B[49m\u001B[43m)\u001B[49m\u001B[43m)\u001B[49m\n\u001B[0;32m     84\u001B[0m \u001B[38;5;28;01mexcept\u001B[39;00m socket\u001B[38;5;241m.\u001B[39merror:\n",
      "\u001B[1;31mConnectionRefusedError\u001B[0m: [WinError 10061] Es konnte keine Verbindung hergestellt werden, da der Zielcomputer die Verbindung verweigerte",
      "\nDuring handling of the above exception, another exception occurred:\n",
      "\u001B[1;31mKeyboardInterrupt\u001B[0m                         Traceback (most recent call last)",
      "Cell \u001B[1;32mIn[4], line 1\u001B[0m\n\u001B[1;32m----> 1\u001B[0m \u001B[43mtraci\u001B[49m\u001B[38;5;241;43m.\u001B[39;49m\u001B[43mstart\u001B[49m\u001B[43m(\u001B[49m\u001B[43msumoCmd\u001B[49m\u001B[43m)\u001B[49m\n\u001B[0;32m      2\u001B[0m \u001B[38;5;28mprint\u001B[39m(\u001B[38;5;124m\"\u001B[39m\u001B[38;5;124mSimulation started\u001B[39m\u001B[38;5;124m\"\u001B[39m)\n\u001B[0;32m      3\u001B[0m step \u001B[38;5;241m=\u001B[39m \u001B[38;5;241m0\u001B[39m\n",
      "File \u001B[1;32mD:\\extern3\\SUMO\\tools\\traci\\main.py:147\u001B[0m, in \u001B[0;36mstart\u001B[1;34m(cmd, port, numRetries, label, verbose, traceFile, traceGetters, stdout, doSwitch)\u001B[0m\n\u001B[0;32m    145\u001B[0m sumoProcess \u001B[38;5;241m=\u001B[39m subprocess\u001B[38;5;241m.\u001B[39mPopen(cmd2, stdout\u001B[38;5;241m=\u001B[39mstdout)\n\u001B[0;32m    146\u001B[0m \u001B[38;5;28;01mtry\u001B[39;00m:\n\u001B[1;32m--> 147\u001B[0m     result \u001B[38;5;241m=\u001B[39m \u001B[43minit\u001B[49m\u001B[43m(\u001B[49m\u001B[43msumoPort\u001B[49m\u001B[43m,\u001B[49m\u001B[43m \u001B[49m\u001B[43mnumRetries\u001B[49m\u001B[43m,\u001B[49m\u001B[43m \u001B[49m\u001B[38;5;124;43m\"\u001B[39;49m\u001B[38;5;124;43mlocalhost\u001B[39;49m\u001B[38;5;124;43m\"\u001B[39;49m\u001B[43m,\u001B[49m\u001B[43m \u001B[49m\u001B[43mlabel\u001B[49m\u001B[43m,\u001B[49m\u001B[43m \u001B[49m\u001B[43msumoProcess\u001B[49m\u001B[43m,\u001B[49m\u001B[43m \u001B[49m\u001B[43mdoSwitch\u001B[49m\u001B[43m,\u001B[49m\u001B[43m \u001B[49m\u001B[43mtraceFile\u001B[49m\u001B[43m,\u001B[49m\u001B[43m \u001B[49m\u001B[43mtraceGetters\u001B[49m\u001B[43m)\u001B[49m\n\u001B[0;32m    148\u001B[0m     \u001B[38;5;28;01mif\u001B[39;00m traceFile \u001B[38;5;129;01mis\u001B[39;00m \u001B[38;5;129;01mnot\u001B[39;00m \u001B[38;5;28;01mNone\u001B[39;00m:\n\u001B[0;32m    149\u001B[0m         connection\u001B[38;5;241m.\u001B[39mget(label)\u001B[38;5;241m.\u001B[39mwrite(\u001B[38;5;124m\"\u001B[39m\u001B[38;5;124mstart\u001B[39m\u001B[38;5;124m\"\u001B[39m, \u001B[38;5;124m\"\u001B[39m\u001B[38;5;132;01m%s\u001B[39;00m\u001B[38;5;124m, port=\u001B[39m\u001B[38;5;132;01m%s\u001B[39;00m\u001B[38;5;124m, label=\u001B[39m\u001B[38;5;132;01m%s\u001B[39;00m\u001B[38;5;124m\"\u001B[39m \u001B[38;5;241m%\u001B[39m (\u001B[38;5;28mrepr\u001B[39m(cmd), \u001B[38;5;28mrepr\u001B[39m(port), \u001B[38;5;28mrepr\u001B[39m(label)))\n",
      "File \u001B[1;32mD:\\extern3\\SUMO\\tools\\traci\\main.py:116\u001B[0m, in \u001B[0;36minit\u001B[1;34m(port, numRetries, host, label, proc, doSwitch, traceFile, traceGetters)\u001B[0m\n\u001B[0;32m    109\u001B[0m \u001B[38;5;28;01mdef\u001B[39;00m \u001B[38;5;21minit\u001B[39m(port\u001B[38;5;241m=\u001B[39m\u001B[38;5;241m8813\u001B[39m, numRetries\u001B[38;5;241m=\u001B[39mtc\u001B[38;5;241m.\u001B[39mDEFAULT_NUM_RETRIES, host\u001B[38;5;241m=\u001B[39m\u001B[38;5;124m\"\u001B[39m\u001B[38;5;124mlocalhost\u001B[39m\u001B[38;5;124m\"\u001B[39m, label\u001B[38;5;241m=\u001B[39m\u001B[38;5;124m\"\u001B[39m\u001B[38;5;124mdefault\u001B[39m\u001B[38;5;124m\"\u001B[39m, proc\u001B[38;5;241m=\u001B[39m\u001B[38;5;28;01mNone\u001B[39;00m, doSwitch\u001B[38;5;241m=\u001B[39m\u001B[38;5;28;01mTrue\u001B[39;00m,\n\u001B[0;32m    110\u001B[0m          traceFile\u001B[38;5;241m=\u001B[39m\u001B[38;5;28;01mNone\u001B[39;00m, traceGetters\u001B[38;5;241m=\u001B[39m\u001B[38;5;28;01mTrue\u001B[39;00m):\n\u001B[0;32m    111\u001B[0m \u001B[38;5;250m    \u001B[39m\u001B[38;5;124;03m\"\"\"\u001B[39;00m\n\u001B[0;32m    112\u001B[0m \u001B[38;5;124;03m    Establish a connection to a TraCI-Server and store it under the given\u001B[39;00m\n\u001B[0;32m    113\u001B[0m \u001B[38;5;124;03m    label. This method is not thread-safe. It accesses the connection\u001B[39;00m\n\u001B[0;32m    114\u001B[0m \u001B[38;5;124;03m    pool concurrently.\u001B[39;00m\n\u001B[0;32m    115\u001B[0m \u001B[38;5;124;03m    \"\"\"\u001B[39;00m\n\u001B[1;32m--> 116\u001B[0m     con \u001B[38;5;241m=\u001B[39m \u001B[43mconnect\u001B[49m\u001B[43m(\u001B[49m\u001B[43mport\u001B[49m\u001B[43m,\u001B[49m\u001B[43m \u001B[49m\u001B[43mnumRetries\u001B[49m\u001B[43m,\u001B[49m\u001B[43m \u001B[49m\u001B[43mhost\u001B[49m\u001B[43m,\u001B[49m\u001B[43m \u001B[49m\u001B[43mproc\u001B[49m\u001B[43m,\u001B[49m\u001B[43m \u001B[49m\u001B[38;5;241;43m1\u001B[39;49m\u001B[43m,\u001B[49m\u001B[43m \u001B[49m\u001B[43mtraceFile\u001B[49m\u001B[43m,\u001B[49m\u001B[43m \u001B[49m\u001B[43mtraceGetters\u001B[49m\u001B[43m,\u001B[49m\u001B[43m \u001B[49m\u001B[43mlabel\u001B[49m\u001B[43m)\u001B[49m\n\u001B[0;32m    117\u001B[0m     \u001B[38;5;28;01mif\u001B[39;00m doSwitch:\n\u001B[0;32m    118\u001B[0m         switch(label)\n",
      "File \u001B[1;32mD:\\extern3\\SUMO\\tools\\traci\\main.py:97\u001B[0m, in \u001B[0;36mconnect\u001B[1;34m(port, numRetries, host, proc, waitBetweenRetries, traceFile, traceGetters, label)\u001B[0m\n\u001B[0;32m     95\u001B[0m \u001B[38;5;28;01mfor\u001B[39;00m retry \u001B[38;5;129;01min\u001B[39;00m \u001B[38;5;28mrange\u001B[39m(\u001B[38;5;241m1\u001B[39m, numRetries \u001B[38;5;241m+\u001B[39m \u001B[38;5;241m2\u001B[39m):\n\u001B[0;32m     96\u001B[0m     \u001B[38;5;28;01mtry\u001B[39;00m:\n\u001B[1;32m---> 97\u001B[0m         \u001B[38;5;28;01mreturn\u001B[39;00m \u001B[43mconnection\u001B[49m\u001B[38;5;241;43m.\u001B[39;49m\u001B[43mConnection\u001B[49m\u001B[43m(\u001B[49m\u001B[43mhost\u001B[49m\u001B[43m,\u001B[49m\u001B[43m \u001B[49m\u001B[43mport\u001B[49m\u001B[43m,\u001B[49m\u001B[43m \u001B[49m\u001B[43mproc\u001B[49m\u001B[43m,\u001B[49m\u001B[43m \u001B[49m\u001B[43mtraceFile\u001B[49m\u001B[43m,\u001B[49m\u001B[43m \u001B[49m\u001B[43mtraceGetters\u001B[49m\u001B[43m,\u001B[49m\u001B[43m \u001B[49m\u001B[43mlabel\u001B[49m\u001B[43m)\u001B[49m\n\u001B[0;32m     98\u001B[0m     \u001B[38;5;28;01mexcept\u001B[39;00m socket\u001B[38;5;241m.\u001B[39merror \u001B[38;5;28;01mas\u001B[39;00m e:\n\u001B[0;32m     99\u001B[0m         \u001B[38;5;28;01mif\u001B[39;00m proc \u001B[38;5;129;01mis\u001B[39;00m \u001B[38;5;129;01mnot\u001B[39;00m \u001B[38;5;28;01mNone\u001B[39;00m \u001B[38;5;129;01mand\u001B[39;00m proc\u001B[38;5;241m.\u001B[39mpoll() \u001B[38;5;129;01mis\u001B[39;00m \u001B[38;5;129;01mnot\u001B[39;00m \u001B[38;5;28;01mNone\u001B[39;00m:\n",
      "File \u001B[1;32mD:\\extern3\\SUMO\\tools\\traci\\connection.py:83\u001B[0m, in \u001B[0;36mConnection.__init__\u001B[1;34m(self, host, port, process, traceFile, traceGetters, label)\u001B[0m\n\u001B[0;32m     81\u001B[0m \u001B[38;5;28mself\u001B[39m\u001B[38;5;241m.\u001B[39m_socket\u001B[38;5;241m.\u001B[39msetsockopt(socket\u001B[38;5;241m.\u001B[39mIPPROTO_TCP, socket\u001B[38;5;241m.\u001B[39mTCP_NODELAY, \u001B[38;5;241m1\u001B[39m)\n\u001B[0;32m     82\u001B[0m \u001B[38;5;28;01mtry\u001B[39;00m:\n\u001B[1;32m---> 83\u001B[0m     \u001B[38;5;28;43mself\u001B[39;49m\u001B[38;5;241;43m.\u001B[39;49m\u001B[43m_socket\u001B[49m\u001B[38;5;241;43m.\u001B[39;49m\u001B[43mconnect\u001B[49m\u001B[43m(\u001B[49m\u001B[43m(\u001B[49m\u001B[43mhost\u001B[49m\u001B[43m,\u001B[49m\u001B[43m \u001B[49m\u001B[43mport\u001B[49m\u001B[43m)\u001B[49m\u001B[43m)\u001B[49m\n\u001B[0;32m     84\u001B[0m \u001B[38;5;28;01mexcept\u001B[39;00m socket\u001B[38;5;241m.\u001B[39merror:\n\u001B[0;32m     85\u001B[0m     \u001B[38;5;28mself\u001B[39m\u001B[38;5;241m.\u001B[39m_socket\u001B[38;5;241m.\u001B[39mclose()\n",
      "\u001B[1;31mKeyboardInterrupt\u001B[0m: "
     ]
    }
   ],
   "execution_count": 4
  },
  {
   "metadata": {},
   "cell_type": "code",
   "outputs": [],
   "execution_count": null,
   "source": "    ",
   "id": "2182f89e71391be4"
  }
 ],
 "metadata": {
  "kernelspec": {
   "display_name": "Python 3",
   "language": "python",
   "name": "python3"
  },
  "language_info": {
   "codemirror_mode": {
    "name": "ipython",
    "version": 2
   },
   "file_extension": ".py",
   "mimetype": "text/x-python",
   "name": "python",
   "nbconvert_exporter": "python",
   "pygments_lexer": "ipython2",
   "version": "2.7.6"
  }
 },
 "nbformat": 4,
 "nbformat_minor": 5
}
