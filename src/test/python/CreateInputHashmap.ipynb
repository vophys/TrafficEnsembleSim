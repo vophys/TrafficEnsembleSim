{
 "cells": [
  {
   "cell_type": "code",
   "id": "initial_id",
   "metadata": {
    "collapsed": true,
    "ExecuteTime": {
     "end_time": "2025-03-25T14:26:24.473056Z",
     "start_time": "2025-03-25T14:26:24.462061Z"
    }
   },
   "source": [
    "# Created by Frederic on 15.03.2025.\n",
    "# \n",
    "# This script is used to create a HashMap out of the binary data of the traffic simulation.\n",
    "#\n",
    "# Steps:\n",
    "# - Read the binary data from a duckdb file\n",
    "# - Split the data into the different segments of the roads\n",
    "# - Extract the density by averaging over the last dt time steps (dt*10 seconds)\n",
    "# - Use these information to create random vehicles\n",
    "#        - In this step handle the min distance issue to avoid disappearing vehicles\n",
    "# - Create a HashMap with the information of the vehicles (parameters and position)"
   ],
   "outputs": [],
   "execution_count": 1
  },
  {
   "metadata": {
    "ExecuteTime": {
     "end_time": "2025-03-25T14:26:55.048081Z",
     "start_time": "2025-03-25T14:26:47.951651Z"
    }
   },
   "cell_type": "code",
   "source": [
    "import duckdb\n",
    "import numpy as np\n",
    "import pandas as pd\n",
    "import matplotlib.pyplot as plt\n",
    "import random\n",
    "import Hashmap_Creation as hc"
   ],
   "id": "3525f79d6f3264a9",
   "outputs": [],
   "execution_count": 2
  },
  {
   "metadata": {
    "ExecuteTime": {
     "end_time": "2025-03-25T14:26:55.065128Z",
     "start_time": "2025-03-25T14:26:55.051082Z"
    }
   },
   "cell_type": "code",
   "source": [
    "def selectx(table_name, lane_count, time_from, time_to, detector_from, detector_to, conn) -> np.array:\n",
    "    time_steps = time_to - time_from\n",
    "    detectors = detector_to - detector_from\n",
    "\n",
    "    what = \",\".join([f\"lane{l1}\" for l1 in range(lane_count)])\n",
    "    sql = (f\"SELECT {what} FROM {table_name} \"\n",
    "           f\"WHERE time >= {time_from} AND time < {time_to} \"\n",
    "           f\"AND sensor >= {detector_from} AND sensor < {detector_to} \"\n",
    "           f\"ORDER BY time ASC, sensor ASC\")\n",
    "\n",
    "    sql_res = conn.sql(sql).fetchnumpy()\n",
    "\n",
    "    res = np.zeros([3, time_steps, detectors], dtype=np.uint8)\n",
    "\n",
    "    for l1 in range(lane_count):\n",
    "        lane_data = np.array(sql_res[f\"lane{l1}\"], dtype=np.uint8)\n",
    "        res[l1] = np.reshape(lane_data, (-1, detectors))\n",
    "\n",
    "    res = np.transpose(res, (1, 0, 2))\n",
    "    return res\n",
    "\n",
    "def selecty(table_name, lane_id, time_from, time_to, time_future, detector_from, detector_to, quantile, conn) -> np.array:\n",
    "    time_intervals = time_to - time_from\n",
    "    detectors = detector_to - detector_from\n",
    "    sql = (\n",
    "        f\"SELECT lane{lane_id} FROM {table_name} WHERE time < {time_to + time_future} AND time >= {time_from} \"\n",
    "        f\"AND sensor < {detector_to} AND sensor >= {detector_from} \")\n",
    "    sql_res = conn.sql(sql).fetchnumpy()\n",
    "    res = np.zeros([time_intervals, detectors], dtype=np.uint8)\n",
    "    lane_data = sql_res[f\"lane{lane_id}\"]\n",
    "\n",
    "    for i in range(time_intervals):\n",
    "        i_data = lane_data[i*detectors:(i+time_future)*detectors].reshape(time_future, detectors, order='C').astype(dtype=np.uint8)\n",
    "        res[i] = np.quantile(i_data, quantile, axis=0)\n",
    "    return res.squeeze()"
   ],
   "id": "45206ccd9bfd1674",
   "outputs": [],
   "execution_count": 3
  },
  {
   "metadata": {
    "ExecuteTime": {
     "end_time": "2025-03-25T14:27:38.728025Z",
     "start_time": "2025-03-25T14:27:38.438689Z"
    }
   },
   "cell_type": "code",
   "source": [
    "# First we create a dataframe and csv with all possible vehicle types by reading a .rou.xml file\n",
    "import xml.etree.ElementTree as ET\n",
    "\n",
    "tree = ET.parse('../../../DemoCase/Routes2000_2_Krauss_represent_traffic_BBV_30.rou.xml')\n",
    "\n",
    "root = tree.getroot()\n",
    "\n",
    "# We are only interested in the vehicle types parameters\n",
    "vehicle_types = root.findall('vType')\n",
    "\n",
    "# Read the content of the vehicle types: lcStrategic, tau, id, accel, decel, sigma, length, width, maxSpeed, vClass, carFollowModel, color, guiShape\n",
    "\n",
    "vehicle_types_dict = {}\n",
    "for vehicle_type in vehicle_types:\n",
    "    vehicle_types_dict[vehicle_type.attrib['id']] = vehicle_type.attrib\n",
    "    \n",
    "vehicle_types_df = pd.DataFrame(vehicle_types_dict).T\n",
    "\n",
    "# Set the id as index\n",
    "vehicle_types_df = vehicle_types_df.set_index('id')\n",
    "\n",
    "vehicle_types_df.to_csv('vehicle_types.csv') "
   ],
   "id": "4c3a48c38784e7fa",
   "outputs": [],
   "execution_count": 5
  },
  {
   "metadata": {
    "ExecuteTime": {
     "end_time": "2025-03-25T14:28:00.434283Z",
     "start_time": "2025-03-25T14:27:59.943062Z"
    }
   },
   "cell_type": "code",
   "source": [
    "# Open the duckdb file\n",
    "path = \"D:/extern3/Traffic_KITracking/scenario.duckdb\"\n",
    "\n",
    "con = duckdb.connect(path)"
   ],
   "id": "57df851e29b327e1",
   "outputs": [],
   "execution_count": 7
  },
  {
   "metadata": {
    "ExecuteTime": {
     "end_time": "2025-03-25T14:28:02.431486Z",
     "start_time": "2025-03-25T14:28:02.258083Z"
    }
   },
   "cell_type": "code",
   "source": [
    "lanes = 2\n",
    "\n",
    "time_steps_before_simulation = 100\n",
    "sensors_per_segment = 20\n",
    "length_per_sensor = 5\n",
    "\n",
    "tstart = 0\n",
    "tend = 16000\n",
    "twin = 1\n",
    "tstep = 1\n",
    "\n",
    "xstart = 0\n",
    "xend = 4000\n",
    "\n",
    "x = selectx('rawdata', lanes, tstart, tstart+time_steps_before_simulation, xstart, xstart + xend, con)\n",
    "# Only keep the first 2 of the second dimension\n",
    "x = x[:, :2, :]\n",
    "print(x.shape)\n",
    "# Split the data into the different segments of the roads\n",
    "x_new = np.zeros([x.shape[0], x.shape[1], x.shape[2]//sensors_per_segment, sensors_per_segment])\n",
    "for time_step in range(x.shape[0]):\n",
    "    for lane in range(x.shape[1]):\n",
    "        x_new[time_step, lane] = np.array(np.split(x[time_step, lane], x.shape[2]//sensors_per_segment), dtype=np.uint8)\n",
    "print(x_new.shape)"
   ],
   "id": "763fa0a2f3877568",
   "outputs": [
    {
     "name": "stdout",
     "output_type": "stream",
     "text": [
      "(100, 2, 4000)\n",
      "(100, 2, 200, 20)\n"
     ]
    }
   ],
   "execution_count": 8
  },
  {
   "metadata": {
    "ExecuteTime": {
     "end_time": "2025-03-25T14:28:04.349021Z",
     "start_time": "2025-03-25T14:28:04.325547Z"
    }
   },
   "cell_type": "code",
   "source": [
    "density = np.zeros([x_new.shape[0], x_new.shape[1], x_new.shape[2]])\n",
    "for time_step in range(x_new.shape[0]):\n",
    "    for lane in range(x_new.shape[1]):\n",
    "        density[time_step, lane] = np.mean(x_new[time_step, lane], axis=1)\n",
    "        \n",
    "print(density.shape)\n",
    "\n",
    "density = np.mean(density, axis=0)\n",
    "\n",
    "print(density.shape)"
   ],
   "id": "332d59e50f11c48e",
   "outputs": [
    {
     "name": "stdout",
     "output_type": "stream",
     "text": [
      "(100, 2, 200)\n",
      "(2, 200)\n"
     ]
    }
   ],
   "execution_count": 9
  },
  {
   "metadata": {
    "ExecuteTime": {
     "end_time": "2025-03-25T14:28:05.212139Z",
     "start_time": "2025-03-25T14:28:05.196320Z"
    }
   },
   "cell_type": "code",
   "source": "density",
   "id": "6da8baf70730b757",
   "outputs": [
    {
     "data": {
      "text/plain": [
       "array([[0.1845, 0.176 , 0.157 , 0.1855, 0.159 , 0.1205, 0.133 , 0.14  ,\n",
       "        0.15  , 0.107 , 0.1045, 0.216 , 0.1265, 0.107 , 0.1315, 0.0925,\n",
       "        0.128 , 0.1   , 0.179 , 0.161 , 0.2295, 0.168 , 0.12  , 0.137 ,\n",
       "        0.207 , 0.138 , 0.1125, 0.207 , 0.154 , 0.1525, 0.0925, 0.1655,\n",
       "        0.164 , 0.1295, 0.1695, 0.111 , 0.244 , 0.2095, 0.157 , 0.1055,\n",
       "        0.21  , 0.1255, 0.1195, 0.1   , 0.1505, 0.183 , 0.2575, 0.1505,\n",
       "        0.131 , 0.1385, 0.2   , 0.1725, 0.1865, 0.22  , 0.156 , 0.183 ,\n",
       "        0.197 , 0.183 , 0.1655, 0.2595, 0.1   , 0.0855, 0.236 , 0.2365,\n",
       "        0.151 , 0.2035, 0.228 , 0.1805, 0.178 , 0.1635, 0.162 , 0.1645,\n",
       "        0.113 , 0.0865, 0.086 , 0.2535, 0.209 , 0.14  , 0.1035, 0.208 ,\n",
       "        0.1145, 0.135 , 0.1115, 0.197 , 0.162 , 0.2615, 0.1605, 0.1465,\n",
       "        0.1395, 0.205 , 0.1605, 0.193 , 0.1285, 0.1235, 0.1255, 0.1935,\n",
       "        0.208 , 0.166 , 0.149 , 0.1375, 0.1385, 0.219 , 0.2315, 0.172 ,\n",
       "        0.1645, 0.214 , 0.089 , 0.1315, 0.0845, 0.1055, 0.1315, 0.268 ,\n",
       "        0.0935, 0.11  , 0.2375, 0.1085, 0.1065, 0.1215, 0.144 , 0.1195,\n",
       "        0.1135, 0.1235, 0.101 , 0.0995, 0.1075, 0.1145, 0.09  , 0.1195,\n",
       "        0.137 , 0.1555, 0.123 , 0.1115, 0.104 , 0.126 , 0.102 , 0.086 ,\n",
       "        0.091 , 0.1105, 0.122 , 0.1085, 0.1105, 0.138 , 0.122 , 0.085 ,\n",
       "        0.1185, 0.1265, 0.137 , 0.1335, 0.099 , 0.1065, 0.1365, 0.098 ,\n",
       "        0.092 , 0.0985, 0.1225, 0.095 , 0.123 , 0.129 , 0.0965, 0.1205,\n",
       "        0.127 , 0.13  , 0.128 , 0.1275, 0.1145, 0.1075, 0.094 , 0.1035,\n",
       "        0.1165, 0.109 , 0.095 , 0.117 , 0.0875, 0.114 , 0.1255, 0.118 ,\n",
       "        0.108 , 0.111 , 0.132 , 0.139 , 0.09  , 0.1165, 0.1235, 0.132 ,\n",
       "        0.0835, 0.1005, 0.131 , 0.1345, 0.1295, 0.139 , 0.1105, 0.1175,\n",
       "        0.11  , 0.1175, 0.134 , 0.1125, 0.115 , 0.1085, 0.114 , 0.113 ],\n",
       "       [0.0865, 0.0975, 0.112 , 0.1135, 0.124 , 0.0915, 0.094 , 0.1705,\n",
       "        0.2005, 0.133 , 0.099 , 0.081 , 0.213 , 0.0915, 0.0905, 0.1095,\n",
       "        0.2045, 0.123 , 0.097 , 0.1075, 0.111 , 0.1115, 0.1015, 0.092 ,\n",
       "        0.0885, 0.123 , 0.082 , 0.0955, 0.0935, 0.1   , 0.115 , 0.114 ,\n",
       "        0.1195, 0.171 , 0.1805, 0.1135, 0.0995, 0.0855, 0.112 , 0.092 ,\n",
       "        0.0985, 0.0985, 0.1225, 0.0855, 0.09  , 0.089 , 0.165 , 0.1895,\n",
       "        0.1015, 0.1075, 0.113 , 0.231 , 0.1055, 0.11  , 0.1005, 0.2195,\n",
       "        0.1475, 0.1115, 0.105 , 0.1185, 0.108 , 0.089 , 0.083 , 0.0755,\n",
       "        0.1275, 0.0805, 0.0955, 0.091 , 0.1915, 0.135 , 0.117 , 0.078 ,\n",
       "        0.1135, 0.111 , 0.103 , 0.093 , 0.1025, 0.2315, 0.0895, 0.113 ,\n",
       "        0.121 , 0.122 , 0.095 , 0.0755, 0.094 , 0.167 , 0.1745, 0.086 ,\n",
       "        0.083 , 0.117 , 0.1325, 0.082 , 0.074 , 0.072 , 0.2085, 0.11  ,\n",
       "        0.0925, 0.09  , 0.158 , 0.186 , 0.1155, 0.1115, 0.095 , 0.219 ,\n",
       "        0.102 , 0.0875, 0.0975, 0.0925, 0.1095, 0.109 , 0.0995, 0.155 ,\n",
       "        0.161 , 0.101 , 0.082 , 0.0835, 0.083 , 0.078 , 0.0795, 0.09  ,\n",
       "        0.0925, 0.091 , 0.089 , 0.091 , 0.0945, 0.092 , 0.092 , 0.0765,\n",
       "        0.08  , 0.069 , 0.074 , 0.0755, 0.078 , 0.0775, 0.0865, 0.0945,\n",
       "        0.0795, 0.081 , 0.085 , 0.0875, 0.0785, 0.061 , 0.102 , 0.105 ,\n",
       "        0.0755, 0.073 , 0.073 , 0.0885, 0.107 , 0.096 , 0.0945, 0.0915,\n",
       "        0.086 , 0.0815, 0.0785, 0.0845, 0.076 , 0.0795, 0.104 , 0.092 ,\n",
       "        0.088 , 0.0845, 0.087 , 0.0875, 0.0935, 0.1075, 0.1055, 0.0885,\n",
       "        0.0825, 0.091 , 0.0965, 0.0945, 0.09  , 0.0735, 0.0825, 0.078 ,\n",
       "        0.0845, 0.088 , 0.087 , 0.0795, 0.078 , 0.0735, 0.07  , 0.068 ,\n",
       "        0.0995, 0.0825, 0.089 , 0.0735, 0.0645, 0.0775, 0.099 , 0.085 ,\n",
       "        0.0815, 0.062 , 0.0825, 0.0915, 0.0895, 0.075 , 0.0865, 0.1105]])"
      ]
     },
     "execution_count": 10,
     "metadata": {},
     "output_type": "execute_result"
    }
   ],
   "execution_count": 10
  },
  {
   "metadata": {
    "ExecuteTime": {
     "end_time": "2025-03-25T14:28:06.368649Z",
     "start_time": "2025-03-25T14:28:06.360649Z"
    }
   },
   "cell_type": "code",
   "source": [
    "density_per_segment = np.mean(density, axis=0)\n",
    "density_per_segment.shape"
   ],
   "id": "4495c77d3771fb3d",
   "outputs": [
    {
     "data": {
      "text/plain": [
       "(200,)"
      ]
     },
     "execution_count": 11,
     "metadata": {},
     "output_type": "execute_result"
    }
   ],
   "execution_count": 11
  },
  {
   "metadata": {
    "ExecuteTime": {
     "end_time": "2025-03-25T14:28:08.228407Z",
     "start_time": "2025-03-25T14:28:08.211401Z"
    }
   },
   "cell_type": "code",
   "source": [
    "lane_elements_per_segment = 2\n",
    "possible_elements = []\n",
    "for i in range(density_per_segment.shape[0]):\n",
    "    possible_elements.append([i*2, i*2+1])\n",
    "    \n",
    "len(possible_elements)"
   ],
   "id": "213851cb7fd076e5",
   "outputs": [
    {
     "data": {
      "text/plain": [
       "200"
      ]
     },
     "execution_count": 12,
     "metadata": {},
     "output_type": "execute_result"
    }
   ],
   "execution_count": 12
  },
  {
   "metadata": {
    "ExecuteTime": {
     "end_time": "2025-03-25T14:28:08.984782Z",
     "start_time": "2025-03-25T14:28:08.961785Z"
    }
   },
   "cell_type": "code",
   "source": [
    "vehicle_dict, route_dict = hc.randomly_place_vehicle(vehicle_types_df, density_per_segment[10], 100, possible_elements[10])\n",
    "\n",
    "vehicle_dict"
   ],
   "id": "ab965764b448b7fc",
   "outputs": [
    {
     "name": "stdout",
     "output_type": "stream",
     "text": [
      "No vehicles fit in the available space\n",
      "No more vehicles can be placed\n"
     ]
    },
    {
     "data": {
      "text/plain": [
       "{'ORV4_0': 'ORV4', 'SUV5_0': 'SUV5'}"
      ]
     },
     "execution_count": 13,
     "metadata": {},
     "output_type": "execute_result"
    }
   ],
   "execution_count": 13
  },
  {
   "metadata": {
    "ExecuteTime": {
     "end_time": "2025-03-25T14:29:36.061561Z",
     "start_time": "2025-03-25T14:29:35.810576Z"
    }
   },
   "cell_type": "code",
   "source": "hc.create_rou_xml(vehicle_dict, route_dict, 'Template.rou.xml')",
   "id": "cfdc0e598b8e0a82",
   "outputs": [
    {
     "name": "stdout",
     "output_type": "stream",
     "text": [
      "Created file routes/test.rou.xml\n"
     ]
    }
   ],
   "execution_count": 15
  },
  {
   "metadata": {},
   "cell_type": "code",
   "outputs": [],
   "execution_count": null,
   "source": "",
   "id": "37e01d3cfb6f7e0d"
  }
 ],
 "metadata": {
  "kernelspec": {
   "display_name": "Python 3",
   "language": "python",
   "name": "python3"
  },
  "language_info": {
   "codemirror_mode": {
    "name": "ipython",
    "version": 2
   },
   "file_extension": ".py",
   "mimetype": "text/x-python",
   "name": "python",
   "nbconvert_exporter": "python",
   "pygments_lexer": "ipython2",
   "version": "2.7.6"
  }
 },
 "nbformat": 4,
 "nbformat_minor": 5
}
