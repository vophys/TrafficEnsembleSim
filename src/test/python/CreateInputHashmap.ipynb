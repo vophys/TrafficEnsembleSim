{
 "cells": [
  {
   "cell_type": "code",
   "id": "initial_id",
   "metadata": {
    "collapsed": true,
    "ExecuteTime": {
     "end_time": "2025-03-26T09:23:53.507601Z",
     "start_time": "2025-03-26T09:23:53.500850Z"
    }
   },
   "source": [
    "# Created by Frederic on 15.03.2025.\n",
    "# \n",
    "# This script is used to create a HashMap out of the binary data of the traffic simulation.\n",
    "#\n",
    "# Steps:\n",
    "# - Read the binary data from a duckdb file\n",
    "# - Split the data into the different segments of the roads\n",
    "# - Extract the density by averaging over the last dt time steps (dt*10 seconds)\n",
    "# - Use these information to create random vehicles\n",
    "#        - In this step handle the min distance issue to avoid disappearing vehicles\n",
    "# - Create a HashMap with the information of the vehicles (parameters and position)"
   ],
   "outputs": [],
   "execution_count": 1
  },
  {
   "metadata": {
    "ExecuteTime": {
     "end_time": "2025-03-26T09:23:55.044612Z",
     "start_time": "2025-03-26T09:23:53.510202Z"
    }
   },
   "cell_type": "code",
   "source": [
    "import duckdb\n",
    "import numpy as np\n",
    "import pandas as pd\n",
    "import matplotlib.pyplot as plt\n",
    "import random\n",
    "import Hashmap_Creation as hc"
   ],
   "id": "3525f79d6f3264a9",
   "outputs": [],
   "execution_count": 2
  },
  {
   "metadata": {
    "ExecuteTime": {
     "end_time": "2025-03-26T09:23:55.219602Z",
     "start_time": "2025-03-26T09:23:55.045615Z"
    }
   },
   "cell_type": "code",
   "source": [
    "# First we create a dataframe and csv with all possible vehicle types by reading a .rou.xml file\n",
    "import xml.etree.ElementTree as ET\n",
    "\n",
    "tree = ET.parse('../../../DemoCase/Routes2000_2_Krauss_represent_traffic_BBV_30.rou.xml')\n",
    "\n",
    "root = tree.getroot()\n",
    "\n",
    "# We are only interested in the vehicle types parameters\n",
    "vehicle_types = root.findall('vType')\n",
    "\n",
    "# Read the content of the vehicle types: lcStrategic, tau, id, accel, decel, sigma, length, width, maxSpeed, vClass, carFollowModel, color, guiShape\n",
    "\n",
    "vehicle_types_dict = {}\n",
    "for vehicle_type in vehicle_types:\n",
    "    vehicle_types_dict[vehicle_type.attrib['id']] = vehicle_type.attrib\n",
    "    \n",
    "vehicle_types_df = pd.DataFrame(vehicle_types_dict).T\n",
    "\n",
    "# Set the id as index\n",
    "vehicle_types_df = vehicle_types_df.set_index('id')\n",
    "\n",
    "vehicle_types_df.to_csv('vehicle_types.csv') "
   ],
   "id": "4c3a48c38784e7fa",
   "outputs": [],
   "execution_count": 3
  },
  {
   "metadata": {
    "ExecuteTime": {
     "end_time": "2025-03-26T09:23:55.338642Z",
     "start_time": "2025-03-26T09:23:55.220594Z"
    }
   },
   "cell_type": "code",
   "source": [
    "# Open the duckdb file\n",
    "path = \"D:/extern3/Traffic_KITracking/scenario.duckdb\"\n",
    "\n",
    "con = duckdb.connect(path)"
   ],
   "id": "57df851e29b327e1",
   "outputs": [],
   "execution_count": 4
  },
  {
   "metadata": {
    "ExecuteTime": {
     "end_time": "2025-03-26T09:23:55.521382Z",
     "start_time": "2025-03-26T09:23:55.341623Z"
    }
   },
   "cell_type": "code",
   "source": [
    "lanes = 2\n",
    "\n",
    "time_steps_before_simulation = 100\n",
    "sensors_per_segment = 20\n",
    "length_per_sensor = 5\n",
    "\n",
    "tstart = 0\n",
    "tend = 16000\n",
    "twin = 1\n",
    "tstep = 1\n",
    "\n",
    "xstart = 0\n",
    "xend = 4000\n",
    "\n",
    "x = hc.selectx('rawdata', lanes, tstart, tstart+time_steps_before_simulation, xstart, xstart + xend, con)\n",
    "# Only keep the first 2 of the second dimension\n",
    "x = x[:, :2, :]\n",
    "print(x.shape)\n",
    "# Split the data into the different segments of the roads\n",
    "x_new = np.zeros([x.shape[0], x.shape[1], x.shape[2]//sensors_per_segment, sensors_per_segment])\n",
    "\n",
    "for time_step in range(x.shape[0]):\n",
    "    for lane in range(x.shape[1]):\n",
    "        x_new[time_step, lane] = np.array(np.split(x[time_step, lane], x.shape[2]//sensors_per_segment), dtype=np.uint8)\n",
    "print(x_new.shape)\n",
    "\n",
    "density = np.zeros([x_new.shape[0], x_new.shape[1], x_new.shape[2]])\n",
    "for time_step in range(x_new.shape[0]):\n",
    "    for lane in range(x_new.shape[1]):\n",
    "        density[time_step, lane] = np.mean(x_new[time_step, lane], axis=1)\n",
    "        \n",
    "print(density.shape)\n",
    "\n",
    "density = np.mean(density, axis=0)\n",
    "\n",
    "print(density.shape)\n",
    "\n",
    "density_per_segment = np.mean(density, axis=0)\n",
    "\n",
    "print(density_per_segment.shape)"
   ],
   "id": "763fa0a2f3877568",
   "outputs": [
    {
     "name": "stdout",
     "output_type": "stream",
     "text": [
      "(100, 2, 4000)\n",
      "(100, 2, 200, 20)\n",
      "(100, 2, 200)\n",
      "(2, 200)\n",
      "(200,)\n"
     ]
    }
   ],
   "execution_count": 5
  },
  {
   "metadata": {
    "ExecuteTime": {
     "end_time": "2025-03-26T09:23:55.575373Z",
     "start_time": "2025-03-26T09:23:55.523339Z"
    }
   },
   "cell_type": "code",
   "source": [
    "x = hc.selectx('rawdata', lanes, tstart, tstart+time_steps_before_simulation, xstart, xstart + xend, con)\n",
    "x = hc.binary_data_to_segments_density(x)\n",
    "x[:10]\n"
   ],
   "id": "c2fb99a3cf402e45",
   "outputs": [
    {
     "data": {
      "text/plain": [
       "array([0.1355 , 0.13675, 0.1345 , 0.1495 , 0.1415 , 0.106  , 0.1135 ,\n",
       "       0.15525, 0.17525, 0.12   ])"
      ]
     },
     "execution_count": 6,
     "metadata": {},
     "output_type": "execute_result"
    }
   ],
   "execution_count": 6
  },
  {
   "metadata": {
    "ExecuteTime": {
     "end_time": "2025-03-26T09:23:55.587335Z",
     "start_time": "2025-03-26T09:23:55.576365Z"
    }
   },
   "cell_type": "code",
   "source": [
    "lane_elements_per_segment = 2\n",
    "possible_elements = []\n",
    "for i in range(density_per_segment.shape[0]):\n",
    "    possible_elements.append([i*2, i*2+1])\n",
    "    \n",
    "len(possible_elements)"
   ],
   "id": "213851cb7fd076e5",
   "outputs": [
    {
     "data": {
      "text/plain": [
       "200"
      ]
     },
     "execution_count": 7,
     "metadata": {},
     "output_type": "execute_result"
    }
   ],
   "execution_count": 7
  },
  {
   "metadata": {
    "ExecuteTime": {
     "end_time": "2025-03-26T09:23:55.610252Z",
     "start_time": "2025-03-26T09:23:55.588363Z"
    }
   },
   "cell_type": "code",
   "source": [
    "vehicle_dict, route_dict = hc.randomly_place_vehicle(vehicle_types_df, density_per_segment[10], 100, possible_elements[10])\n",
    "\n",
    "vehicle_dict"
   ],
   "id": "ab965764b448b7fc",
   "outputs": [
    {
     "name": "stdout",
     "output_type": "stream",
     "text": [
      "No vehicles fit in the available space\n",
      "No more vehicles can be placed\n"
     ]
    },
    {
     "data": {
      "text/plain": [
       "{'CC1_0': 'CC1', 'SPV2_0': 'SPV2'}"
      ]
     },
     "execution_count": 8,
     "metadata": {},
     "output_type": "execute_result"
    }
   ],
   "execution_count": 8
  },
  {
   "metadata": {
    "ExecuteTime": {
     "end_time": "2025-03-26T09:23:55.764466Z",
     "start_time": "2025-03-26T09:23:55.611253Z"
    }
   },
   "cell_type": "code",
   "source": "hc.create_rou_xml(vehicle_dict, route_dict, 'Template.rou.xml')",
   "id": "cfdc0e598b8e0a82",
   "outputs": [
    {
     "name": "stdout",
     "output_type": "stream",
     "text": [
      "Created file routes/test5.rou.xml\n"
     ]
    }
   ],
   "execution_count": 9
  },
  {
   "metadata": {
    "ExecuteTime": {
     "end_time": "2025-03-26T09:23:58.690492Z",
     "start_time": "2025-03-26T09:23:55.765464Z"
    }
   },
   "cell_type": "code",
   "source": [
    "x = hc.selectx('rawdata', lanes, tstart, tstart+time_steps_before_simulation, xstart, xstart + xend, con)\n",
    "x = hc.binary_data_to_segments_density(x)\n",
    "vehicle_dict, route_dict = hc.randomly_fill_road(vehicle_types_df, x, possible_elements, 100)"
   ],
   "id": "37e01d3cfb6f7e0d",
   "outputs": [
    {
     "name": "stdout",
     "output_type": "stream",
     "text": [
      "No vehicles fit in the available space\n",
      "No more vehicles can be placed\n",
      "No vehicles fit in the available space\n",
      "No more vehicles can be placed\n",
      "No vehicles fit in the available space\n",
      "No more vehicles can be placed\n",
      "No vehicles fit in the available space\n",
      "No more vehicles can be placed\n",
      "No vehicles fit in the available space\n",
      "No more vehicles can be placed\n",
      "No vehicles fit in the available space\n",
      "No more vehicles can be placed\n",
      "No vehicles fit in the available space\n",
      "No more vehicles can be placed\n",
      "No vehicles fit in the available space\n",
      "No more vehicles can be placed\n",
      "No vehicles fit in the available space\n",
      "No more vehicles can be placed\n",
      "No vehicles fit in the available space\n",
      "No more vehicles can be placed\n",
      "No vehicles fit in the available space\n",
      "No more vehicles can be placed\n",
      "No vehicles fit in the available space\n",
      "No more vehicles can be placed\n",
      "No vehicles fit in the available space\n",
      "No more vehicles can be placed\n",
      "No vehicles fit in the available space\n",
      "No more vehicles can be placed\n",
      "No vehicles fit in the available space\n",
      "No more vehicles can be placed\n",
      "No vehicles fit in the available space\n",
      "No more vehicles can be placed\n",
      "No vehicles fit in the available space\n",
      "No more vehicles can be placed\n",
      "No vehicles fit in the available space\n",
      "No more vehicles can be placed\n",
      "No vehicles fit in the available space\n",
      "No more vehicles can be placed\n",
      "No vehicles fit in the available space\n",
      "No more vehicles can be placed\n",
      "No vehicles fit in the available space\n",
      "No more vehicles can be placed\n",
      "No vehicles fit in the available space\n",
      "No more vehicles can be placed\n",
      "No vehicles fit in the available space\n",
      "No more vehicles can be placed\n",
      "No vehicles fit in the available space\n",
      "No more vehicles can be placed\n",
      "No vehicles fit in the available space\n",
      "No more vehicles can be placed\n",
      "No vehicles fit in the available space\n",
      "No more vehicles can be placed\n",
      "No vehicles fit in the available space\n",
      "No more vehicles can be placed\n",
      "No vehicles fit in the available space\n",
      "No more vehicles can be placed\n",
      "No vehicles fit in the available space\n",
      "No more vehicles can be placed\n",
      "No vehicles fit in the available space\n",
      "No more vehicles can be placed\n",
      "No vehicles fit in the available space\n",
      "No more vehicles can be placed\n",
      "No vehicles fit in the available space\n",
      "No more vehicles can be placed\n",
      "No vehicles fit in the available space\n",
      "No more vehicles can be placed\n",
      "No vehicles fit in the available space\n",
      "No more vehicles can be placed\n",
      "No vehicles fit in the available space\n",
      "No more vehicles can be placed\n",
      "No vehicles fit in the available space\n",
      "No more vehicles can be placed\n",
      "No vehicles fit in the available space\n",
      "No more vehicles can be placed\n",
      "No vehicles fit in the available space\n",
      "No more vehicles can be placed\n",
      "No vehicles fit in the available space\n",
      "No more vehicles can be placed\n",
      "No vehicles fit in the available space\n",
      "No more vehicles can be placed\n",
      "No vehicles fit in the available space\n",
      "No more vehicles can be placed\n",
      "No vehicles fit in the available space\n",
      "No more vehicles can be placed\n",
      "No vehicles fit in the available space\n",
      "No more vehicles can be placed\n",
      "No vehicles fit in the available space\n",
      "No more vehicles can be placed\n",
      "No vehicles fit in the available space\n",
      "No more vehicles can be placed\n",
      "No vehicles fit in the available space\n",
      "No more vehicles can be placed\n",
      "No vehicles fit in the available space\n",
      "No more vehicles can be placed\n",
      "No vehicles fit in the available space\n",
      "No more vehicles can be placed\n",
      "No vehicles fit in the available space\n",
      "No more vehicles can be placed\n",
      "No vehicles fit in the available space\n",
      "No more vehicles can be placed\n",
      "No vehicles fit in the available space\n",
      "No more vehicles can be placed\n",
      "No vehicles fit in the available space\n",
      "No more vehicles can be placed\n",
      "No vehicles fit in the available space\n",
      "No more vehicles can be placed\n",
      "No vehicles fit in the available space\n",
      "No more vehicles can be placed\n",
      "No vehicles fit in the available space\n",
      "No more vehicles can be placed\n",
      "No vehicles fit in the available space\n",
      "No more vehicles can be placed\n",
      "No vehicles fit in the available space\n",
      "No more vehicles can be placed\n",
      "No vehicles fit in the available space\n",
      "No more vehicles can be placed\n",
      "No vehicles fit in the available space\n",
      "No more vehicles can be placed\n",
      "No vehicles fit in the available space\n",
      "No more vehicles can be placed\n",
      "No vehicles fit in the available space\n",
      "No more vehicles can be placed\n",
      "No vehicles fit in the available space\n",
      "No more vehicles can be placed\n",
      "No vehicles fit in the available space\n",
      "No more vehicles can be placed\n",
      "No vehicles fit in the available space\n",
      "No more vehicles can be placed\n",
      "No vehicles fit in the available space\n",
      "No more vehicles can be placed\n",
      "No vehicles fit in the available space\n",
      "No more vehicles can be placed\n",
      "No vehicles fit in the available space\n",
      "No more vehicles can be placed\n",
      "No vehicles fit in the available space\n",
      "No more vehicles can be placed\n",
      "No vehicles fit in the available space\n",
      "No more vehicles can be placed\n",
      "No vehicles fit in the available space\n",
      "No more vehicles can be placed\n",
      "No vehicles fit in the available space\n",
      "No more vehicles can be placed\n",
      "No vehicles fit in the available space\n",
      "No more vehicles can be placed\n",
      "No vehicles fit in the available space\n",
      "No more vehicles can be placed\n",
      "No vehicles fit in the available space\n",
      "No more vehicles can be placed\n",
      "No vehicles fit in the available space\n",
      "No more vehicles can be placed\n",
      "No vehicles fit in the available space\n",
      "No more vehicles can be placed\n",
      "No vehicles fit in the available space\n",
      "No more vehicles can be placed\n",
      "No vehicles fit in the available space\n",
      "No more vehicles can be placed\n",
      "No vehicles fit in the available space\n",
      "No more vehicles can be placed\n",
      "No vehicles fit in the available space\n",
      "No more vehicles can be placed\n",
      "No vehicles fit in the available space\n",
      "No more vehicles can be placed\n",
      "No vehicles fit in the available space\n",
      "No more vehicles can be placed\n",
      "No vehicles fit in the available space\n",
      "No more vehicles can be placed\n",
      "No vehicles fit in the available space\n",
      "No more vehicles can be placed\n",
      "No vehicles fit in the available space\n",
      "No more vehicles can be placed\n",
      "No vehicles fit in the available space\n",
      "No more vehicles can be placed\n",
      "No vehicles fit in the available space\n",
      "No more vehicles can be placed\n",
      "No vehicles fit in the available space\n",
      "No more vehicles can be placed\n",
      "No vehicles fit in the available space\n",
      "No more vehicles can be placed\n",
      "No vehicles fit in the available space\n",
      "No more vehicles can be placed\n",
      "No vehicles fit in the available space\n",
      "No more vehicles can be placed\n",
      "No vehicles fit in the available space\n",
      "No more vehicles can be placed\n",
      "No vehicles fit in the available space\n",
      "No more vehicles can be placed\n",
      "No vehicles fit in the available space\n",
      "No more vehicles can be placed\n",
      "No vehicles fit in the available space\n",
      "No more vehicles can be placed\n",
      "No vehicles fit in the available space\n",
      "No more vehicles can be placed\n",
      "No vehicles fit in the available space\n",
      "No more vehicles can be placed\n",
      "No vehicles fit in the available space\n",
      "No more vehicles can be placed\n",
      "No vehicles fit in the available space\n",
      "No more vehicles can be placed\n",
      "No vehicles fit in the available space\n",
      "No more vehicles can be placed\n",
      "No vehicles fit in the available space\n",
      "No more vehicles can be placed\n",
      "No vehicles fit in the available space\n",
      "No more vehicles can be placed\n",
      "No vehicles fit in the available space\n",
      "No more vehicles can be placed\n",
      "No vehicles fit in the available space\n",
      "No more vehicles can be placed\n",
      "No vehicles fit in the available space\n",
      "No more vehicles can be placed\n",
      "No vehicles fit in the available space\n",
      "No more vehicles can be placed\n",
      "No vehicles fit in the available space\n",
      "No more vehicles can be placed\n",
      "No vehicles fit in the available space\n",
      "No more vehicles can be placed\n",
      "No vehicles fit in the available space\n",
      "No more vehicles can be placed\n",
      "No vehicles fit in the available space\n",
      "No more vehicles can be placed\n",
      "No vehicles fit in the available space\n",
      "No more vehicles can be placed\n",
      "No vehicles fit in the available space\n",
      "No more vehicles can be placed\n",
      "No vehicles fit in the available space\n",
      "No more vehicles can be placed\n",
      "No vehicles fit in the available space\n",
      "No more vehicles can be placed\n",
      "No vehicles fit in the available space\n",
      "No more vehicles can be placed\n",
      "No vehicles fit in the available space\n",
      "No more vehicles can be placed\n",
      "No vehicles fit in the available space\n",
      "No more vehicles can be placed\n",
      "No vehicles fit in the available space\n",
      "No more vehicles can be placed\n",
      "No vehicles fit in the available space\n",
      "No more vehicles can be placed\n",
      "No vehicles fit in the available space\n",
      "No more vehicles can be placed\n",
      "No vehicles fit in the available space\n",
      "No more vehicles can be placed\n",
      "No vehicles fit in the available space\n",
      "No more vehicles can be placed\n",
      "No vehicles fit in the available space\n",
      "No more vehicles can be placed\n",
      "No vehicles fit in the available space\n",
      "No more vehicles can be placed\n",
      "No vehicles fit in the available space\n",
      "No more vehicles can be placed\n",
      "No vehicles fit in the available space\n",
      "No more vehicles can be placed\n",
      "No vehicles fit in the available space\n",
      "No more vehicles can be placed\n",
      "No vehicles fit in the available space\n",
      "No more vehicles can be placed\n",
      "No vehicles fit in the available space\n",
      "No more vehicles can be placed\n",
      "No vehicles fit in the available space\n",
      "No more vehicles can be placed\n",
      "No vehicles fit in the available space\n",
      "No more vehicles can be placed\n",
      "No vehicles fit in the available space\n",
      "No more vehicles can be placed\n",
      "No vehicles fit in the available space\n",
      "No more vehicles can be placed\n",
      "No vehicles fit in the available space\n",
      "No more vehicles can be placed\n",
      "No vehicles fit in the available space\n",
      "No more vehicles can be placed\n",
      "No vehicles fit in the available space\n",
      "No more vehicles can be placed\n",
      "No vehicles fit in the available space\n",
      "No more vehicles can be placed\n",
      "No vehicles fit in the available space\n",
      "No more vehicles can be placed\n",
      "No vehicles fit in the available space\n",
      "No more vehicles can be placed\n",
      "No vehicles fit in the available space\n",
      "No more vehicles can be placed\n",
      "No vehicles fit in the available space\n",
      "No more vehicles can be placed\n",
      "No vehicles fit in the available space\n",
      "No more vehicles can be placed\n",
      "No vehicles fit in the available space\n",
      "No more vehicles can be placed\n",
      "No vehicles fit in the available space\n",
      "No more vehicles can be placed\n",
      "No vehicles fit in the available space\n",
      "No more vehicles can be placed\n",
      "No vehicles fit in the available space\n",
      "No more vehicles can be placed\n",
      "No vehicles fit in the available space\n",
      "No more vehicles can be placed\n",
      "No vehicles fit in the available space\n",
      "No more vehicles can be placed\n",
      "No vehicles fit in the available space\n",
      "No more vehicles can be placed\n",
      "No vehicles fit in the available space\n",
      "No more vehicles can be placed\n",
      "No vehicles fit in the available space\n",
      "No more vehicles can be placed\n",
      "No vehicles fit in the available space\n",
      "No more vehicles can be placed\n",
      "No vehicles fit in the available space\n",
      "No more vehicles can be placed\n",
      "No vehicles fit in the available space\n",
      "No more vehicles can be placed\n",
      "No vehicles fit in the available space\n",
      "No more vehicles can be placed\n",
      "No vehicles fit in the available space\n",
      "No more vehicles can be placed\n",
      "No vehicles fit in the available space\n",
      "No more vehicles can be placed\n",
      "No vehicles fit in the available space\n",
      "No more vehicles can be placed\n",
      "No vehicles fit in the available space\n",
      "No more vehicles can be placed\n",
      "No vehicles fit in the available space\n",
      "No more vehicles can be placed\n",
      "No vehicles fit in the available space\n",
      "No more vehicles can be placed\n",
      "No vehicles fit in the available space\n",
      "No more vehicles can be placed\n",
      "No vehicles fit in the available space\n",
      "No more vehicles can be placed\n",
      "No vehicles fit in the available space\n",
      "No more vehicles can be placed\n",
      "No vehicles fit in the available space\n",
      "No more vehicles can be placed\n",
      "No vehicles fit in the available space\n",
      "No more vehicles can be placed\n",
      "No vehicles fit in the available space\n",
      "No more vehicles can be placed\n",
      "No vehicles fit in the available space\n",
      "No more vehicles can be placed\n",
      "No vehicles fit in the available space\n",
      "No more vehicles can be placed\n",
      "No vehicles fit in the available space\n",
      "No more vehicles can be placed\n",
      "No vehicles fit in the available space\n",
      "No more vehicles can be placed\n",
      "No vehicles fit in the available space\n",
      "No more vehicles can be placed\n",
      "No vehicles fit in the available space\n",
      "No more vehicles can be placed\n",
      "No vehicles fit in the available space\n",
      "No more vehicles can be placed\n",
      "No vehicles fit in the available space\n",
      "No more vehicles can be placed\n",
      "No vehicles fit in the available space\n",
      "No more vehicles can be placed\n",
      "No vehicles fit in the available space\n",
      "No more vehicles can be placed\n",
      "No vehicles fit in the available space\n",
      "No more vehicles can be placed\n",
      "No vehicles fit in the available space\n",
      "No more vehicles can be placed\n",
      "No vehicles fit in the available space\n",
      "No more vehicles can be placed\n",
      "No vehicles fit in the available space\n",
      "No more vehicles can be placed\n",
      "No vehicles fit in the available space\n",
      "No more vehicles can be placed\n",
      "No vehicles fit in the available space\n",
      "No more vehicles can be placed\n",
      "No vehicles fit in the available space\n",
      "No more vehicles can be placed\n",
      "No vehicles fit in the available space\n",
      "No more vehicles can be placed\n",
      "No vehicles fit in the available space\n",
      "No more vehicles can be placed\n",
      "No vehicles fit in the available space\n",
      "No more vehicles can be placed\n",
      "No vehicles fit in the available space\n",
      "No more vehicles can be placed\n",
      "No vehicles fit in the available space\n",
      "No more vehicles can be placed\n",
      "No vehicles fit in the available space\n",
      "No more vehicles can be placed\n",
      "No vehicles fit in the available space\n",
      "No more vehicles can be placed\n",
      "No vehicles fit in the available space\n",
      "No more vehicles can be placed\n",
      "No vehicles fit in the available space\n",
      "No more vehicles can be placed\n",
      "No vehicles fit in the available space\n",
      "No more vehicles can be placed\n",
      "No vehicles fit in the available space\n",
      "No more vehicles can be placed\n",
      "No vehicles fit in the available space\n",
      "No more vehicles can be placed\n",
      "No vehicles fit in the available space\n",
      "No more vehicles can be placed\n",
      "No vehicles fit in the available space\n",
      "No more vehicles can be placed\n",
      "No vehicles fit in the available space\n",
      "No more vehicles can be placed\n",
      "No vehicles fit in the available space\n",
      "No more vehicles can be placed\n"
     ]
    }
   ],
   "execution_count": 10
  },
  {
   "metadata": {
    "ExecuteTime": {
     "end_time": "2025-03-26T09:25:23.051049Z",
     "start_time": "2025-03-26T09:25:22.865076Z"
    }
   },
   "cell_type": "code",
   "source": "hc.create_rou_xml(vehicle_dict, route_dict, 'Template.rou.xml')",
   "id": "80ee220c4711d522",
   "outputs": [
    {
     "name": "stdout",
     "output_type": "stream",
     "text": [
      "Created file routes/test.rou.xml\n"
     ]
    }
   ],
   "execution_count": 15
  },
  {
   "metadata": {
    "ExecuteTime": {
     "end_time": "2025-03-26T09:23:58.703491Z",
     "start_time": "2025-03-26T09:23:58.700489Z"
    }
   },
   "cell_type": "code",
   "source": "",
   "id": "a17346e28268bd32",
   "outputs": [],
   "execution_count": 11
  }
 ],
 "metadata": {
  "kernelspec": {
   "display_name": "Python 3",
   "language": "python",
   "name": "python3"
  },
  "language_info": {
   "codemirror_mode": {
    "name": "ipython",
    "version": 2
   },
   "file_extension": ".py",
   "mimetype": "text/x-python",
   "name": "python",
   "nbconvert_exporter": "python",
   "pygments_lexer": "ipython2",
   "version": "2.7.6"
  }
 },
 "nbformat": 4,
 "nbformat_minor": 5
}
